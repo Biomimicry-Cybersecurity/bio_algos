{
 "cells": [
  {
   "cell_type": "markdown",
   "metadata": {},
   "source": [
    "# Libraries"
   ]
  },
  {
   "cell_type": "code",
   "execution_count": 52,
   "metadata": {},
   "outputs": [],
   "source": [
    "import numpy as np\n",
    "import pandas as pd\n",
    "import seaborn as sns\n",
    "import matplotlib.pyplot as plt\n",
    "from sklearn.ensemble import RandomForestClassifier\n",
    "from sklearn.metrics import classification_report, confusion_matrix, accuracy_score\n",
    "from sklearn.model_selection import train_test_split\n",
    "import time\n",
    "\n",
    "start_time = time.time()  # Start time"
   ]
  },
  {
   "cell_type": "markdown",
   "metadata": {},
   "source": [
    "# Data"
   ]
  },
  {
   "cell_type": "code",
   "execution_count": 53,
   "metadata": {},
   "outputs": [],
   "source": [
    "# key variable for how quick the notebook is running. Choose 0.001 or less for 1-3 minutes\n",
    "subset_fraction=0.001\n",
    "\n",
    "# load your dataset\n",
    "df_train = pd.read_parquet('./data/cic_iomt_2024_wifi_mqtt_train.parquet')  # load your training data\n",
    "df_test = pd.read_parquet('./data/cic_iomt_2024_wifi_mqtt_test.parquet')    # load your test data\n",
    "\n",
    "# randomly select % of the training and test data (for exploration)\n",
    "df_train_sampled = df_train.sample(frac=subset_fraction, random_state=1984)          # % of train data\n",
    "df_test_sampled = df_test.sample(frac=subset_fraction, random_state=1984)            # % of test data\n",
    "\n",
    "# define training and testing features and labels\n",
    "X_train = df_train_sampled.drop(columns=['label', 'class_label', 'category_label', 'attack_label'])\n",
    "y_train = df_train_sampled['attack_label']\n",
    "X_test = df_test_sampled.drop(columns=['label', 'class_label', 'category_label', 'attack_label'])\n",
    "y_test = df_test_sampled['attack_label']"
   ]
  },
  {
   "cell_type": "markdown",
   "metadata": {},
   "source": [
    "# GA"
   ]
  },
  {
   "cell_type": "markdown",
   "metadata": {},
   "source": [
    "This function evaluates the fitness of an individual (a potential solution) in a genetic algorithm by selecting features based on the individual's genes. Here’s what happens:\n",
    "\n",
    "__Feature Selection__: The individual's genes (binary values) determine which features to select for training. If a gene is greater than 0.5, the corresponding feature is selected.\n",
    "\n",
    "__Empty Set Check__: If no features are selected, the function returns a fitness score of 0 to avoid training on an empty feature set.\n",
    "\n",
    "__Model Training__: A Random Forest classifier is trained on the selected features using the training dataset.\n",
    "\n",
    "__Prediction__: The trained model predicts labels for the test dataset using the same selected features.\n",
    "\n",
    "__Fitness Calculation__: The accuracy of the predictions is calculated, which serves as the fitness score of the individual. This score represents how well the selected feature subset performs in classification.\n",
    "\n",
    "The higher the accuracy, the better the individual's solution."
   ]
  },
  {
   "cell_type": "code",
   "execution_count": 54,
   "metadata": {},
   "outputs": [],
   "source": [
    "# define the fitness function for evaluating feature subsets\n",
    "def evaluate_feature_selection(individual):\n",
    "    # function selects the features based on the individual's genes - features with values > 0.5 are selected\n",
    "    selected_features = np.where(individual > 0.5)[0]        # select features based on individual genes\n",
    "    if len(selected_features) == 0:                          # avoid empty feature set\n",
    "        return 0\n",
    "    X_train_selected = X_train.iloc[:, selected_features]\n",
    "    X_test_selected = X_test.iloc[:, selected_features]\n",
    "\n",
    "    rf = RandomForestClassifier(random_state=1984)           # create rf model\n",
    "    rf.fit(X_train_selected, y_train)                        # fit the model\n",
    "    y_pred = rf.predict(X_test_selected)                     # predict attack_label\n",
    "    \n",
    "    accuracy = accuracy_score(y_test, y_pred)                # calculate accuracy of prediction - fitness function\n",
    "    return accuracy                                          # return accuracy as the fitness score"
   ]
  },
  {
   "cell_type": "markdown",
   "metadata": {},
   "source": [
    "### GA Parameters\n",
    "\n",
    "__population_size__: Defines the number of individuals in the population, each representing a potential solution. A larger population allows for broader exploration of the solution space.\n",
    "\n",
    "__n_generations__: Sets the maximum number of iterations the algorithm can run, allowing the population to evolve over multiple generations to find an optimal solution.\n",
    "\n",
    "__mutation_rate__: Specifies the probability that any gene within an individual will mutate, introducing variability and helping avoid local optima.\n",
    "\n",
    "__fitnes_threshold__: Represents the target fitness level that the algorithm aims to achieve. If reached, the algorithm will terminate early.\n",
    "\n",
    "__stagnation_limit__: Establishes how many generations can pass without any improvement in the best fitness score before the algorithm terminates. This helps prevent the algorithm from running unnecessarily if no progress is being made."
   ]
  },
  {
   "cell_type": "code",
   "execution_count": 55,
   "metadata": {},
   "outputs": [],
   "source": [
    "# Genetic Algorithm parameters\n",
    "population_size = 20            # number of individuals in the population\n",
    "n_generations = 50              # maximum number of generations\n",
    "mutation_rate = 0.1             # probability of mutation\n",
    "fitness_threshold = 1           # fitness goal (threshold for stopping)\n",
    "stagnation_limit = 5            # number of generations without improvement before stopping"
   ]
  },
  {
   "cell_type": "markdown",
   "metadata": {},
   "source": [
    "The code first determines the number of features in the dataset to define the length of each individual in the population. Then, it initializes a population of random individuals, where each individual is represented by a vector with values between 0 and 1, indicating potential feature subsets. Additionally, variables are set up to track the best fitness score and the corresponding individual across generations. A counter for the number of generations without improvement is also initialized, along with a variable to store the reason for the algorithm's termination."
   ]
  },
  {
   "cell_type": "code",
   "execution_count": 56,
   "metadata": {},
   "outputs": [],
   "source": [
    "# get the number of features for individual length\n",
    "n_features = X_train.shape[1]   # number of features in dataset\n",
    "\n",
    "# initialize population with random values between 0 and 1 (individuals represent feature subsets)\n",
    "population = np.random.rand(population_size, n_features)\n",
    "\n",
    "# initialize variables to track the best fitness and stagnation count\n",
    "best_fitness_overall = 0\n",
    "best_individual_overall = None\n",
    "no_improvement_count = 0\n",
    "termination_reason = None  # To store the reason for termination"
   ]
  },
  {
   "cell_type": "markdown",
   "metadata": {},
   "source": [
    "The main loop of the genetic algorithm runs through each generation, evaluating feature selection, updating the population, and checking for termination conditions.\n",
    "\n",
    "__Fitness Evaluation__:\n",
    "For each individual in the population, a fitness score is calculated based on feature selection using the function evaluate_feature_selection.\n",
    "The current best fitness score and the corresponding individual (feature subset) are tracked for each generation.\n",
    "\n",
    "__Generation Statistics__:\n",
    "For every generation, the algorithm prints the best fitness score achieved.\n",
    "\n",
    "__Updating Best Individual__:\n",
    "If the current generation produces a better fitness score than the overall best, it updates the best individual and resets the stagnation counter (which tracks the number of generations without improvement).\n",
    "If no improvement is found, the stagnation counter increases.\n",
    "\n",
    "__Termination Checks__:\n",
    "The algorithm checks two termination conditions:\n",
    "Fitness Threshold: If the best fitness score reaches or exceeds a pre-set threshold, the loop breaks, and termination is triggered.\n",
    "Stagnation: If there is no improvement in fitness for a predefined number of generations, the algorithm terminates early.\n",
    "\n",
    "__Selection__:\n",
    "Using roulette wheel selection based on fitness scores, a new population is created from the current individuals. The likelihood of selection is proportional to the fitness of each individual.\n",
    "\n",
    "__Crossover__:\n",
    "Pairs of selected individuals undergo single-point crossover, combining their genes to produce offspring. Each pair of parents creates two children by swapping their genes at a random crossover point.\n",
    "\n",
    "__Mutation__:\n",
    "Each gene in the offspring has a chance of mutation, where a random bit is flipped (changing from 0 to 1 or vice versa) based on a predefined mutation rate.\n",
    "\n",
    "__Population Update__:\n",
    "The current population is replaced by the newly generated offspring, and the algorithm proceeds to the next generation.\n",
    "\n",
    "__Termination Reason__:\n",
    "If the termination criteria are met (fitness threshold or stagnation), the loop breaks early, and the reason is printed. If the loop completes all generations without early termination, the reason will be the maximum number of generations reached.\n",
    "This process continues until one of the termination criteria is satisfied, determining how long the algorithm runs and what feature subset is ultimately chosen."
   ]
  },
  {
   "cell_type": "code",
   "execution_count": 57,
   "metadata": {},
   "outputs": [
    {
     "name": "stdout",
     "output_type": "stream",
     "text": [
      "Generation 1: Best Fitness = 0.99380, Selected Features = 27\n",
      "Generation 2: Best Fitness = 0.98947, Selected Features = 18\n",
      "Generation 3: Best Fitness = 0.99009, Selected Features = 25\n",
      "Generation 4: Best Fitness = 0.99133, Selected Features = 19\n",
      "Generation 5: Best Fitness = 0.99195, Selected Features = 22\n",
      "Generation 6: Best Fitness = 0.98947, Selected Features = 28\n",
      "Termination Reason: No improvement for 5 generations.\n"
     ]
    }
   ],
   "source": [
    "# Genetic Algorithm main loop for feature selection\n",
    "for generation in range(n_generations):\n",
    "    fitness_scores = np.array([evaluate_feature_selection(individual) for individual in population])\n",
    "    \n",
    "    # track the best fitness score in the current generation\n",
    "    current_best_fitness = np.max(fitness_scores)\n",
    "    current_best_individual = population[np.argmax(fitness_scores)]\n",
    "    \n",
    "    # count the number of selected features (those with values > 0.5)\n",
    "    num_selected_features = np.sum(current_best_individual > 0.5)\n",
    "    \n",
    "    # print generation stats including number of selected features\n",
    "    print(f\"Generation {generation + 1}: Best Fitness = {current_best_fitness:.5f}, Selected Features = {num_selected_features}\")\n",
    "    \n",
    "    # update the overall best fitness and individual if necessary\n",
    "    if current_best_fitness > best_fitness_overall:\n",
    "        best_fitness_overall = current_best_fitness\n",
    "        best_individual_overall = current_best_individual\n",
    "        no_improvement_count = 0  # reset stagnation counter if there's improvement\n",
    "    else:\n",
    "        no_improvement_count += 1  # increase stagnation counter if no improvement\n",
    "    \n",
    "    # check if the fitness threshold is reached\n",
    "    if best_fitness_overall >= fitness_threshold:\n",
    "        termination_reason = f\"Desired fitness threshold of {fitness_threshold} reached.\"\n",
    "        break\n",
    "    \n",
    "    # check if there's been no improvement for stagnation_limit generations\n",
    "    if no_improvement_count >= stagnation_limit:\n",
    "        termination_reason = f\"No improvement for {stagnation_limit} generations.\"\n",
    "        break\n",
    "    \n",
    "    # Selection: roulette wheel selection based on fitness\n",
    "    probabilities = fitness_scores / np.sum(fitness_scores)\n",
    "    selected_indices = np.random.choice(np.arange(population_size), size=population_size, p=probabilities)\n",
    "    selected_population = population[selected_indices]\n",
    "\n",
    "    # Crossover: single-point crossover\n",
    "    offspring = []\n",
    "    for i in range(0, population_size, 2):\n",
    "        parent1, parent2 = selected_population[i], selected_population[i+1]\n",
    "        crossover_point = np.random.randint(1, n_features-1)\n",
    "        child1 = np.concatenate([parent1[:crossover_point], parent2[crossover_point:]])\n",
    "        child2 = np.concatenate([parent2[:crossover_point], parent1[crossover_point:]])\n",
    "        offspring.extend([child1, child2])\n",
    "    \n",
    "    offspring = np.array(offspring)\n",
    "\n",
    "    # Mutation: flip bits with a probability of mutation_rate\n",
    "    for individual in offspring:\n",
    "        mutation_mask = np.random.rand(n_features) < mutation_rate\n",
    "        individual[mutation_mask] = 1 - individual[mutation_mask]  # flip 0 to 1 or 1 to 0\n",
    "\n",
    "    # Replace the population with the offspring\n",
    "    population = offspring\n",
    "\n",
    "# if no termination reason set, the loop ran for the maximum number of generations\n",
    "if termination_reason is None:\n",
    "    termination_reason = f\"Reached maximum number of generations ({n_generations}).\"\n",
    "\n",
    "# print termination reason\n",
    "print(f\"Termination Reason: {termination_reason}\")\n"
   ]
  },
  {
   "cell_type": "markdown",
   "metadata": {},
   "source": [
    "# Random Forest Classifier"
   ]
  },
  {
   "cell_type": "code",
   "execution_count": 58,
   "metadata": {},
   "outputs": [],
   "source": [
    "# use the best features identified by GA overall\n",
    "selected_features = np.where(best_individual_overall > 0.5)[0]\n",
    "X_train_selected = X_train.iloc[:, selected_features]\n",
    "X_test_selected = X_test.iloc[:, selected_features]\n",
    "\n",
    "# train the Random Forest with selected features\n",
    "rf = RandomForestClassifier(random_state=1984)\n",
    "rf.fit(X_train_selected, y_train)\n",
    "y_pred = rf.predict(X_test_selected)"
   ]
  },
  {
   "cell_type": "code",
   "execution_count": 59,
   "metadata": {},
   "outputs": [
    {
     "name": "stdout",
     "output_type": "stream",
     "text": [
      "                    precision    recall  f1-score   support\n",
      "\n",
      "      ARP_spoofing       0.00      0.00      0.00         1\n",
      "            Benign       0.94      0.97      0.96        35\n",
      "         DDoS_ICMP       1.00      1.00      1.00       352\n",
      "          DDoS_SYN       1.00      1.00      1.00       177\n",
      "          DDoS_TCP       1.00      1.00      1.00       157\n",
      "          DDoS_UDP       1.00      1.00      1.00       367\n",
      "DDoS_connect_flood       1.00      1.00      1.00        41\n",
      "DDoS_publish_flood       1.00      0.56      0.71         9\n",
      "          DoS_ICMP       1.00      0.99      1.00       120\n",
      "           DoS_SYN       1.00      1.00      1.00        97\n",
      "           DoS_TCP       1.00      1.00      1.00        78\n",
      "           DoS_UDP       1.00      1.00      1.00       143\n",
      " DoS_connect_flood       1.00      1.00      1.00         1\n",
      " DoS_publish_flood       0.73      1.00      0.85        11\n",
      "           OS_scan       1.00      0.33      0.50         3\n",
      "         Port_scan       0.84      1.00      0.91        21\n",
      "        ping_sweep       0.00      0.00      0.00         1\n",
      "\n",
      "          accuracy                           0.99      1614\n",
      "         macro avg       0.85      0.81      0.82      1614\n",
      "      weighted avg       0.99      0.99      0.99      1614\n",
      "\n",
      "Number of selected features: 27\n",
      "Accuracy: 0.99380\n"
     ]
    },
    {
     "name": "stderr",
     "output_type": "stream",
     "text": [
      "/Applications/anaconda3/lib/python3.8/site-packages/sklearn/metrics/_classification.py:1245: UndefinedMetricWarning: Precision and F-score are ill-defined and being set to 0.0 in labels with no predicted samples. Use `zero_division` parameter to control this behavior.\n",
      "  _warn_prf(average, modifier, msg_start, len(result))\n",
      "/Applications/anaconda3/lib/python3.8/site-packages/sklearn/metrics/_classification.py:1245: UndefinedMetricWarning: Precision and F-score are ill-defined and being set to 0.0 in labels with no predicted samples. Use `zero_division` parameter to control this behavior.\n",
      "  _warn_prf(average, modifier, msg_start, len(result))\n",
      "/Applications/anaconda3/lib/python3.8/site-packages/sklearn/metrics/_classification.py:1245: UndefinedMetricWarning: Precision and F-score are ill-defined and being set to 0.0 in labels with no predicted samples. Use `zero_division` parameter to control this behavior.\n",
      "  _warn_prf(average, modifier, msg_start, len(result))\n"
     ]
    }
   ],
   "source": [
    "# print the classification report\n",
    "print(classification_report(y_test, y_pred))\n",
    "\n",
    "# print the number of selected features\n",
    "print(f\"Number of selected features: {len(selected_features)}\")\n",
    "\n",
    "# calculate accuracy\n",
    "accuracy = accuracy_score(y_test, y_pred)\n",
    "\n",
    "# print accuracy with 5 decimal places\n",
    "print(f\"Accuracy: {accuracy:.5f}\")"
   ]
  },
  {
   "cell_type": "code",
   "execution_count": 60,
   "metadata": {},
   "outputs": [
    {
     "data": {
      "image/png": "[encoded data removed]",
      "text/plain": [
       "<Figure size 1080x864 with 2 Axes>"
      ]
     },
     "metadata": {
      "needs_background": "light"
     },
     "output_type": "display_data"
    }
   ],
   "source": [
    "# generate the confusion matrix\n",
    "cm = confusion_matrix(y_test, y_pred)\n",
    "\n",
    "# visualize the confusion matrix using seaborn\n",
    "plt.figure(figsize=(15, 12))\n",
    "sns.heatmap(cm, annot=True, fmt='d', cmap='Blues', xticklabels=rf.classes_, yticklabels=rf.classes_)\n",
    "plt.xlabel('Predicted Labels')\n",
    "plt.ylabel('True Labels')\n",
    "plt.title('Confusion Matrix')\n",
    "plt.show()"
   ]
  },
  {
   "cell_type": "code",
   "execution_count": 61,
   "metadata": {},
   "outputs": [
    {
     "name": "stdout",
     "output_type": "stream",
     "text": [
      "Total execution time: 91.98 seconds\n"
     ]
    }
   ],
   "source": [
    "end_time = time.time()  # End time\n",
    "elapsed_time = end_time - start_time  # Calculate the total time\n",
    "print(f\"Total execution time: {elapsed_time:.2f} seconds\")"
   ]
  }
 ],
 "metadata": {
  "kernelspec": {
   "display_name": "base",
   "language": "python",
   "name": "python3"
  },
  "language_info": {
   "codemirror_mode": {
    "name": "ipython",
    "version": 3
   },
   "file_extension": ".py",
   "mimetype": "text/x-python",
   "name": "python",
   "nbconvert_exporter": "python",
   "pygments_lexer": "ipython3",
   "version": "3.8.8"
  }
 },
 "nbformat": 4,
 "nbformat_minor": 2
}
