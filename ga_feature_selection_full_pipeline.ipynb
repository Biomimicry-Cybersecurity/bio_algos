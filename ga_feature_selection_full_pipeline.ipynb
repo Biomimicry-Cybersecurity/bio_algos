{
 "cells": [
  {
   "cell_type": "code",
   "execution_count": 1,
   "metadata": {},
   "outputs": [],
   "source": [
    "import numpy as np\n",
    "import sys\n",
    "import pandas as pd\n",
    "from itertools import product\n",
    "import seaborn as sns\n",
    "import matplotlib.pyplot as plt\n",
    "from sklearn.ensemble import RandomForestClassifier\n",
    "from sklearn.svm import SVC\n",
    "from sklearn.svm import LinearSVC\n",
    "from sklearn.ensemble import AdaBoostClassifier\n",
    "from sklearn.tree import DecisionTreeClassifier\n",
    "from sklearn.linear_model import LogisticRegression\n",
    "from sklearn.metrics import classification_report, confusion_matrix, accuracy_score, recall_score, precision_score, f1_score\n",
    "from sklearn.model_selection import train_test_split\n",
    "import warnings\n",
    "from joblib import Parallel, delayed\n",
    "import time\n",
    "start_time = time.time()  # Start time"
   ]
  },
  {
   "cell_type": "markdown",
   "metadata": {},
   "source": [
    "## Global Variables"
   ]
  },
  {
   "cell_type": "code",
   "execution_count": 2,
   "metadata": {},
   "outputs": [],
   "source": [
    "CLASSIFIER = ''"
   ]
  },
  {
   "cell_type": "markdown",
   "metadata": {},
   "source": [
    "## Notebook Start Time"
   ]
  },
  {
   "cell_type": "code",
   "execution_count": 3,
   "metadata": {},
   "outputs": [],
   "source": [
    "start_time = time.time()"
   ]
  },
  {
   "cell_type": "markdown",
   "metadata": {},
   "source": [
    "## Data"
   ]
  },
  {
   "cell_type": "code",
   "execution_count": 4,
   "metadata": {},
   "outputs": [],
   "source": [
    "my_frac=0.001\n",
    "\n",
    "# Load dataset as pandas DataFrame\n",
    "df_train = pd.read_parquet('./data/cic_iomt_2024_wifi_mqtt_train.parquet')\n",
    "df_test = pd.read_parquet('./data/cic_iomt_2024_wifi_mqtt_test.parquet')  \n",
    "\n",
    "# Create sample DataFrame for feature selection\n",
    "df_train_sample = df_train.sample(frac=my_frac, random_state=1984)      \n",
    "df_test_sample = df_test.sample(frac=my_frac, random_state=1984)   \n",
    "\n",
    "# Create sample X and y from train and test, convert to numpy arrays\n",
    "X_train_sample = df_train_sample.drop(columns=['label', 'class_label', 'category_label', 'attack_label']).to_numpy()\n",
    "y_train_sample_2 = df_train_sample['class_label'].to_numpy()\n",
    "y_train_sample_6 = df_train_sample['category_label'].to_numpy()\n",
    "y_train_sample_19 = df_train_sample['attack_label'].to_numpy()\n",
    "\n",
    "\n",
    "X_test_sample = df_test_sample.drop(columns=['label', 'class_label', 'category_label', 'attack_label']).to_numpy()\n",
    "y_test_sample_2 = df_test_sample['class_label'].to_numpy()\n",
    "y_test_sample_6 = df_test_sample['category_label'].to_numpy()\n",
    "y_test_sample_19 = df_test_sample['attack_label'].to_numpy()\n",
    "\n",
    "\n",
    "# Create full data X and y from train and test, convert to numpy arrays\n",
    "X_train_full = df_train_sample.drop(columns=['label', 'class_label', 'category_label', 'attack_label']).to_numpy()\n",
    "y_train_full_2 = df_train_sample['class_label'].to_numpy()\n",
    "y_train_full_6 = df_train_sample['category_label'].to_numpy()\n",
    "y_train_full_19 = df_train_sample['attack_label'].to_numpy()\n",
    "\n",
    "\n",
    "X_test_full = df_test_sample.drop(columns=['label', 'class_label', 'category_label', 'attack_label']).to_numpy()\n",
    "y_test_full_2 = df_test_sample['class_label'].to_numpy()\n",
    "y_test_full_6 = df_test_sample['category_label'].to_numpy()\n",
    "y_test_full_19 = df_test_sample['attack_label'].to_numpy()"
   ]
  },
  {
   "cell_type": "markdown",
   "metadata": {},
   "source": [
    "## Benchmarks"
   ]
  },
  {
   "cell_type": "markdown",
   "metadata": {},
   "source": [
    "We use hyperparameters from the CICIoMT2024 to establish benchmarks for classification on the dataset. We will then use pso to select the best features and compare results."
   ]
  },
  {
   "cell_type": "markdown",
   "metadata": {},
   "source": [
    "### Logistic Regression"
   ]
  },
  {
   "cell_type": "code",
   "execution_count": 5,
   "metadata": {},
   "outputs": [],
   "source": [
    "lr_benchmark = LogisticRegression(\n",
    "    penalty='l2', \n",
    "    dual=False, \n",
    "    tol=0.0001, \n",
    "    C=1.0, \n",
    "    fit_intercept=True, \n",
    "    intercept_scaling=1, \n",
    "    solver='lbfgs', \n",
    "    max_iter=100,\n",
    "    warm_start=False, \n",
    "    n_jobs=-1\n",
    "    )"
   ]
  },
  {
   "cell_type": "markdown",
   "metadata": {},
   "source": [
    "#### Binary Classification"
   ]
  },
  {
   "cell_type": "code",
   "execution_count": 6,
   "metadata": {},
   "outputs": [],
   "source": [
    "lr_benchmark.fit(X_train_sample, y_train_sample_2)\n",
    "y_pred_lr_benchmark_2 = lr_benchmark.predict(X_test_sample)"
   ]
  },
  {
   "cell_type": "code",
   "execution_count": 7,
   "metadata": {},
   "outputs": [
    {
     "name": "stdout",
     "output_type": "stream",
     "text": [
      "              precision    recall  f1-score   support\n",
      "\n",
      "      Attack       0.99      0.99      0.99      1579\n",
      "      Benign       0.61      0.63      0.62        35\n",
      "\n",
      "    accuracy                           0.98      1614\n",
      "   macro avg       0.80      0.81      0.81      1614\n",
      "weighted avg       0.98      0.98      0.98      1614\n",
      "\n",
      "Accuracy: 0.98327\n"
     ]
    }
   ],
   "source": [
    "# print the classification report\n",
    "report_lr_benchmark_2 = classification_report(y_test_sample_2, y_pred_lr_benchmark_2, output_dict=True)\n",
    "print(classification_report(y_test_sample_2, y_pred_lr_benchmark_2))\n",
    "\n",
    "# calculate metrics\n",
    "accuracy_lr_benchmark_2 = accuracy_score(y_test_sample_2, y_pred_lr_benchmark_2)\n",
    "recall_lr_benchmark_2 = recall_score(y_test_sample_2, y_pred_lr_benchmark_2, average=\"weighted\")\n",
    "precision_lr_benchmark_2 = precision_score(y_test_sample_2, y_pred_lr_benchmark_2, average=\"weighted\")\n",
    "f1_lr_benchmark_2 = f1_score(y_test_sample_2, y_pred_lr_benchmark_2, average=\"weighted\")\n",
    "\n",
    "# print accuracy with 5 decimal places\n",
    "print(f\"Accuracy: {accuracy_lr_benchmark_2:.5f}\")"
   ]
  },
  {
   "cell_type": "markdown",
   "metadata": {},
   "source": [
    "#### 6 Class Classification"
   ]
  },
  {
   "cell_type": "code",
   "execution_count": 8,
   "metadata": {},
   "outputs": [],
   "source": [
    "lr_benchmark.fit(X_train_sample, y_train_sample_6)\n",
    "y_pred_lr_benchmark_6 = lr_benchmark.predict(X_test_sample)"
   ]
  },
  {
   "cell_type": "code",
   "execution_count": 9,
   "metadata": {},
   "outputs": [
    {
     "name": "stdout",
     "output_type": "stream",
     "text": [
      "              precision    recall  f1-score   support\n",
      "\n",
      "      Benign       0.64      0.60      0.62        35\n",
      "        DDos       0.67      1.00      0.81      1053\n",
      "         Dos       0.00      0.00      0.00       438\n",
      "        MQTT       0.20      0.02      0.03        62\n",
      "       Recon       1.00      0.16      0.28        25\n",
      "    Spoofing       0.00      0.00      0.00         1\n",
      "\n",
      "    accuracy                           0.67      1614\n",
      "   macro avg       0.42      0.30      0.29      1614\n",
      "weighted avg       0.48      0.67      0.54      1614\n",
      "\n",
      "Accuracy: 0.66729\n"
     ]
    }
   ],
   "source": [
    "# print the classification report\n",
    "report_lr_benchmark_6 = classification_report(y_test_sample_6, y_pred_lr_benchmark_6, output_dict=True)\n",
    "print(classification_report(y_test_sample_6, y_pred_lr_benchmark_6))\n",
    "\n",
    "# calculate accuracy\n",
    "accuracy_lr_benchmark_6 = accuracy_score(y_test_sample_6, y_pred_lr_benchmark_6)\n",
    "recall_lr_benchmark_6 = recall_score(y_test_sample_6, y_pred_lr_benchmark_6, average=\"weighted\")\n",
    "precision_lr_benchmark_6 = precision_score(y_test_sample_6, y_pred_lr_benchmark_6, average=\"weighted\")\n",
    "f1_lr_benchmark_6 = f1_score(y_test_sample_6, y_pred_lr_benchmark_6, average=\"weighted\")\n",
    "\n",
    "# print accuracy with 5 decimal places\n",
    "print(f\"Accuracy: {accuracy_lr_benchmark_6:.5f}\")"
   ]
  },
  {
   "cell_type": "markdown",
   "metadata": {},
   "source": [
    "#### 19 Class Classification"
   ]
  },
  {
   "cell_type": "code",
   "execution_count": 10,
   "metadata": {},
   "outputs": [],
   "source": [
    "lr_benchmark.fit(X_train_sample, y_train_sample_19)\n",
    "y_pred_lr_benchmark_19 = lr_benchmark.predict(X_test_sample)"
   ]
  },
  {
   "cell_type": "code",
   "execution_count": 11,
   "metadata": {},
   "outputs": [
    {
     "name": "stdout",
     "output_type": "stream",
     "text": [
      "                    precision    recall  f1-score   support\n",
      "\n",
      "      ARP_spoofing       0.00      0.00      0.00         1\n",
      "            Benign       0.56      0.63      0.59        35\n",
      "         DDoS_ICMP       0.30      0.74      0.43       352\n",
      "          DDoS_SYN       0.00      0.00      0.00       177\n",
      "          DDoS_TCP       0.00      0.00      0.00       157\n",
      "          DDoS_UDP       0.52      1.00      0.69       367\n",
      "DDoS_connect_flood       0.00      0.00      0.00        41\n",
      "DDoS_publish_flood       0.00      0.00      0.00         9\n",
      "          DoS_ICMP       0.00      0.00      0.00       120\n",
      "           DoS_SYN       0.00      0.00      0.00        97\n",
      "           DoS_TCP       0.00      0.00      0.00        78\n",
      "           DoS_UDP       0.00      0.00      0.00       143\n",
      " DoS_connect_flood       0.00      0.00      0.00         1\n",
      " DoS_publish_flood       0.00      0.00      0.00        11\n",
      "           OS_scan       0.00      0.00      0.00         3\n",
      "         Port_scan       0.00      0.00      0.00        21\n",
      "        ping_sweep       0.00      0.00      0.00         1\n",
      "\n",
      "          accuracy                           0.40      1614\n",
      "         macro avg       0.08      0.14      0.10      1614\n",
      "      weighted avg       0.20      0.40      0.26      1614\n",
      "\n",
      "Accuracy: 0.40335\n"
     ]
    },
    {
     "name": "stderr",
     "output_type": "stream",
     "text": [
      "/Applications/anaconda3/lib/python3.8/site-packages/sklearn/metrics/_classification.py:1245: UndefinedMetricWarning: Precision and F-score are ill-defined and being set to 0.0 in labels with no predicted samples. Use `zero_division` parameter to control this behavior.\n",
      "  _warn_prf(average, modifier, msg_start, len(result))\n",
      "/Applications/anaconda3/lib/python3.8/site-packages/sklearn/metrics/_classification.py:1245: UndefinedMetricWarning: Precision and F-score are ill-defined and being set to 0.0 in labels with no predicted samples. Use `zero_division` parameter to control this behavior.\n",
      "  _warn_prf(average, modifier, msg_start, len(result))\n",
      "/Applications/anaconda3/lib/python3.8/site-packages/sklearn/metrics/_classification.py:1245: UndefinedMetricWarning: Precision and F-score are ill-defined and being set to 0.0 in labels with no predicted samples. Use `zero_division` parameter to control this behavior.\n",
      "  _warn_prf(average, modifier, msg_start, len(result))\n",
      "/Applications/anaconda3/lib/python3.8/site-packages/sklearn/metrics/_classification.py:1245: UndefinedMetricWarning: Precision and F-score are ill-defined and being set to 0.0 in labels with no predicted samples. Use `zero_division` parameter to control this behavior.\n",
      "  _warn_prf(average, modifier, msg_start, len(result))\n",
      "/Applications/anaconda3/lib/python3.8/site-packages/sklearn/metrics/_classification.py:1245: UndefinedMetricWarning: Precision and F-score are ill-defined and being set to 0.0 in labels with no predicted samples. Use `zero_division` parameter to control this behavior.\n",
      "  _warn_prf(average, modifier, msg_start, len(result))\n",
      "/Applications/anaconda3/lib/python3.8/site-packages/sklearn/metrics/_classification.py:1245: UndefinedMetricWarning: Precision and F-score are ill-defined and being set to 0.0 in labels with no predicted samples. Use `zero_division` parameter to control this behavior.\n",
      "  _warn_prf(average, modifier, msg_start, len(result))\n",
      "/Applications/anaconda3/lib/python3.8/site-packages/sklearn/metrics/_classification.py:1245: UndefinedMetricWarning: Precision is ill-defined and being set to 0.0 in labels with no predicted samples. Use `zero_division` parameter to control this behavior.\n",
      "  _warn_prf(average, modifier, msg_start, len(result))\n"
     ]
    }
   ],
   "source": [
    "# print the classification report\n",
    "report_lr_benchmark_19 = classification_report(y_test_sample_19, y_pred_lr_benchmark_19, output_dict=True)\n",
    "print(classification_report(y_test_sample_19, y_pred_lr_benchmark_19))\n",
    "\n",
    "# calculate accuracy\n",
    "accuracy_lr_benchmark_19 = accuracy_score(y_test_sample_19, y_pred_lr_benchmark_19)\n",
    "recall_lr_benchmark_19 = recall_score(y_test_sample_19, y_pred_lr_benchmark_19, average=\"weighted\")\n",
    "precision_lr_benchmark_19 = precision_score(y_test_sample_19, y_pred_lr_benchmark_19, average=\"weighted\")\n",
    "f1_lr_benchmark_19 = f1_score(y_test_sample_19, y_pred_lr_benchmark_19, average=\"weighted\")\n",
    "\n",
    "# print accuracy with 5 decimal places\n",
    "print(f\"Accuracy: {accuracy_lr_benchmark_19:.5f}\")"
   ]
  },
  {
   "cell_type": "markdown",
   "metadata": {},
   "source": [
    "### AdaBoost"
   ]
  },
  {
   "cell_type": "code",
   "execution_count": 12,
   "metadata": {},
   "outputs": [],
   "source": [
    "ada_benchmark = AdaBoostClassifier(\n",
    "    DecisionTreeClassifier(), \n",
    "    n_estimators=50,\n",
    "    learning_rate=1.0, \n",
    "    algorithm='SAMME.R', \n",
    "    random_state=1984\n",
    "    )"
   ]
  },
  {
   "cell_type": "markdown",
   "metadata": {},
   "source": [
    "#### Binary Classification"
   ]
  },
  {
   "cell_type": "code",
   "execution_count": 13,
   "metadata": {},
   "outputs": [],
   "source": [
    "ada_benchmark.fit(X_train_sample, y_train_sample_2)\n",
    "y_pred_ada_benchmark_2 = ada_benchmark.predict(X_test_sample)"
   ]
  },
  {
   "cell_type": "code",
   "execution_count": 66,
   "metadata": {},
   "outputs": [
    {
     "name": "stdout",
     "output_type": "stream",
     "text": [
      "              precision    recall  f1-score   support\n",
      "\n",
      "      Attack       1.00      1.00      1.00      1579\n",
      "      Benign       0.91      0.86      0.88        35\n",
      "\n",
      "    accuracy                           1.00      1614\n",
      "   macro avg       0.95      0.93      0.94      1614\n",
      "weighted avg       0.99      1.00      0.99      1614\n",
      "\n",
      "Accuracy: 0.99504\n"
     ]
    }
   ],
   "source": [
    "# print the classification report\n",
    "report_ada_benchmark_2 = classification_report(y_test_sample_2, y_pred_ada_benchmark_2, output_dict=True)\n",
    "print(classification_report(y_test_sample_2, y_pred_ada_benchmark_2))\n",
    "\n",
    "# calculate accuracy\n",
    "accuracy_ada_benchmark_2 = accuracy_score(y_test_sample_2, y_pred_ada_benchmark_2)\n",
    "recall_ada_benchmark_2 = recall_score(y_test_sample_2, y_pred_ada_benchmark_2, average=\"weighted\")\n",
    "precision_ada_benchmark_2 = precision_score(y_test_sample_2, y_pred_ada_benchmark_2, average=\"weighted\")\n",
    "f1_ada_benchmark_2 = f1_score(y_test_sample_2, y_pred_ada_benchmark_2, average=\"weighted\")\n",
    "\n",
    "# print accuracy with 5 decimal places\n",
    "print(f\"Accuracy: {accuracy_ada_benchmark_2:.5f}\")"
   ]
  },
  {
   "cell_type": "markdown",
   "metadata": {},
   "source": [
    "#### 6 Class Classification"
   ]
  },
  {
   "cell_type": "code",
   "execution_count": 15,
   "metadata": {},
   "outputs": [],
   "source": [
    "ada_benchmark.fit(X_train_sample, y_train_sample_6)\n",
    "y_pred_ada_benchmark_6 = ada_benchmark.predict(X_test_sample)"
   ]
  },
  {
   "cell_type": "code",
   "execution_count": 16,
   "metadata": {},
   "outputs": [
    {
     "name": "stderr",
     "output_type": "stream",
     "text": [
      "/Applications/anaconda3/lib/python3.8/site-packages/sklearn/metrics/_classification.py:1245: UndefinedMetricWarning: Precision and F-score are ill-defined and being set to 0.0 in labels with no predicted samples. Use `zero_division` parameter to control this behavior.\n",
      "  _warn_prf(average, modifier, msg_start, len(result))\n",
      "/Applications/anaconda3/lib/python3.8/site-packages/sklearn/metrics/_classification.py:1245: UndefinedMetricWarning: Precision and F-score are ill-defined and being set to 0.0 in labels with no predicted samples. Use `zero_division` parameter to control this behavior.\n",
      "  _warn_prf(average, modifier, msg_start, len(result))\n"
     ]
    },
    {
     "name": "stdout",
     "output_type": "stream",
     "text": [
      "              precision    recall  f1-score   support\n",
      "\n",
      "      Benign       0.97      0.89      0.93        35\n",
      "        DDos       1.00      1.00      1.00      1053\n",
      "         Dos       1.00      1.00      1.00       438\n",
      "        MQTT       1.00      0.98      0.99        62\n",
      "       Recon       0.81      1.00      0.89        25\n",
      "    Spoofing       0.00      0.00      0.00         1\n",
      "\n",
      "    accuracy                           1.00      1614\n",
      "   macro avg       0.80      0.81      0.80      1614\n",
      "weighted avg       1.00      1.00      0.99      1614\n",
      "\n",
      "Accuracy: 0.99504\n"
     ]
    },
    {
     "name": "stderr",
     "output_type": "stream",
     "text": [
      "/Applications/anaconda3/lib/python3.8/site-packages/sklearn/metrics/_classification.py:1245: UndefinedMetricWarning: Precision and F-score are ill-defined and being set to 0.0 in labels with no predicted samples. Use `zero_division` parameter to control this behavior.\n",
      "  _warn_prf(average, modifier, msg_start, len(result))\n",
      "/Applications/anaconda3/lib/python3.8/site-packages/sklearn/metrics/_classification.py:1245: UndefinedMetricWarning: Precision and F-score are ill-defined and being set to 0.0 in labels with no predicted samples. Use `zero_division` parameter to control this behavior.\n",
      "  _warn_prf(average, modifier, msg_start, len(result))\n",
      "/Applications/anaconda3/lib/python3.8/site-packages/sklearn/metrics/_classification.py:1245: UndefinedMetricWarning: Precision and F-score are ill-defined and being set to 0.0 in labels with no predicted samples. Use `zero_division` parameter to control this behavior.\n",
      "  _warn_prf(average, modifier, msg_start, len(result))\n",
      "/Applications/anaconda3/lib/python3.8/site-packages/sklearn/metrics/_classification.py:1245: UndefinedMetricWarning: Precision and F-score are ill-defined and being set to 0.0 in labels with no predicted samples. Use `zero_division` parameter to control this behavior.\n",
      "  _warn_prf(average, modifier, msg_start, len(result))\n",
      "/Applications/anaconda3/lib/python3.8/site-packages/sklearn/metrics/_classification.py:1245: UndefinedMetricWarning: Precision is ill-defined and being set to 0.0 in labels with no predicted samples. Use `zero_division` parameter to control this behavior.\n",
      "  _warn_prf(average, modifier, msg_start, len(result))\n"
     ]
    }
   ],
   "source": [
    "# print the classification report\n",
    "report_ada_benchmark_6 = classification_report(y_test_sample_6, y_pred_ada_benchmark_6, output_dict=True)\n",
    "print(classification_report(y_test_sample_6, y_pred_ada_benchmark_6))\n",
    "\n",
    "# calculate accuracy\n",
    "accuracy_ada_benchmark_6 = accuracy_score(y_test_sample_6, y_pred_ada_benchmark_6)\n",
    "recall_ada_benchmark_6 = recall_score(y_test_sample_6, y_pred_ada_benchmark_6, average=\"weighted\")\n",
    "precision_ada_benchmark_6 = precision_score(y_test_sample_6, y_pred_ada_benchmark_6, average=\"weighted\")\n",
    "f1_ada_benchmark_6 = f1_score(y_test_sample_6, y_pred_ada_benchmark_6, average=\"weighted\")\n",
    "\n",
    "# print accuracy with 5 decimal places\n",
    "print(f\"Accuracy: {accuracy_ada_benchmark_6:.5f}\")"
   ]
  },
  {
   "cell_type": "markdown",
   "metadata": {},
   "source": [
    "#### 19 Class Classification"
   ]
  },
  {
   "cell_type": "code",
   "execution_count": 17,
   "metadata": {},
   "outputs": [],
   "source": [
    "ada_benchmark.fit(X_train_sample, y_train_sample_19)\n",
    "y_pred_ada_benchmark_19 = ada_benchmark.predict(X_test_sample)"
   ]
  },
  {
   "cell_type": "code",
   "execution_count": 18,
   "metadata": {},
   "outputs": [
    {
     "name": "stdout",
     "output_type": "stream",
     "text": [
      "                    precision    recall  f1-score   support\n",
      "\n",
      "      ARP_spoofing       0.00      0.00      0.00         1\n",
      "            Benign       1.00      0.91      0.96        35\n",
      "         DDoS_ICMP       0.72      1.00      0.84       352\n",
      "          DDoS_SYN       1.00      1.00      1.00       177\n",
      "          DDoS_TCP       0.99      1.00      1.00       157\n",
      "          DDoS_UDP       0.98      0.63      0.77       367\n",
      "DDoS_connect_flood       1.00      1.00      1.00        41\n",
      "DDoS_publish_flood       1.00      0.11      0.20         9\n",
      "          DoS_ICMP       1.00      1.00      1.00       120\n",
      "           DoS_SYN       1.00      0.99      0.99        97\n",
      "           DoS_TCP       1.00      1.00      1.00        78\n",
      "           DoS_UDP       1.00      1.00      1.00       143\n",
      " DoS_connect_flood       1.00      1.00      1.00         1\n",
      " DoS_publish_flood       0.58      1.00      0.73        11\n",
      "           OS_scan       1.00      0.67      0.80         3\n",
      "         Port_scan       0.91      0.95      0.93        21\n",
      "        ping_sweep       0.00      0.00      0.00         1\n",
      "\n",
      "          accuracy                           0.91      1614\n",
      "         macro avg       0.83      0.78      0.78      1614\n",
      "      weighted avg       0.93      0.91      0.90      1614\n",
      "\n",
      "Accuracy: 0.90706\n"
     ]
    },
    {
     "name": "stderr",
     "output_type": "stream",
     "text": [
      "/Applications/anaconda3/lib/python3.8/site-packages/sklearn/metrics/_classification.py:1245: UndefinedMetricWarning: Precision and F-score are ill-defined and being set to 0.0 in labels with no predicted samples. Use `zero_division` parameter to control this behavior.\n",
      "  _warn_prf(average, modifier, msg_start, len(result))\n",
      "/Applications/anaconda3/lib/python3.8/site-packages/sklearn/metrics/_classification.py:1245: UndefinedMetricWarning: Precision and F-score are ill-defined and being set to 0.0 in labels with no predicted samples. Use `zero_division` parameter to control this behavior.\n",
      "  _warn_prf(average, modifier, msg_start, len(result))\n",
      "/Applications/anaconda3/lib/python3.8/site-packages/sklearn/metrics/_classification.py:1245: UndefinedMetricWarning: Precision and F-score are ill-defined and being set to 0.0 in labels with no predicted samples. Use `zero_division` parameter to control this behavior.\n",
      "  _warn_prf(average, modifier, msg_start, len(result))\n",
      "/Applications/anaconda3/lib/python3.8/site-packages/sklearn/metrics/_classification.py:1245: UndefinedMetricWarning: Precision and F-score are ill-defined and being set to 0.0 in labels with no predicted samples. Use `zero_division` parameter to control this behavior.\n",
      "  _warn_prf(average, modifier, msg_start, len(result))\n",
      "/Applications/anaconda3/lib/python3.8/site-packages/sklearn/metrics/_classification.py:1245: UndefinedMetricWarning: Precision and F-score are ill-defined and being set to 0.0 in labels with no predicted samples. Use `zero_division` parameter to control this behavior.\n",
      "  _warn_prf(average, modifier, msg_start, len(result))\n",
      "/Applications/anaconda3/lib/python3.8/site-packages/sklearn/metrics/_classification.py:1245: UndefinedMetricWarning: Precision and F-score are ill-defined and being set to 0.0 in labels with no predicted samples. Use `zero_division` parameter to control this behavior.\n",
      "  _warn_prf(average, modifier, msg_start, len(result))\n",
      "/Applications/anaconda3/lib/python3.8/site-packages/sklearn/metrics/_classification.py:1245: UndefinedMetricWarning: Precision is ill-defined and being set to 0.0 in labels with no predicted samples. Use `zero_division` parameter to control this behavior.\n",
      "  _warn_prf(average, modifier, msg_start, len(result))\n"
     ]
    }
   ],
   "source": [
    "report_ada_benchmark_19 = classification_report(y_test_sample_19, y_pred_ada_benchmark_19, output_dict=True)\n",
    "print(classification_report(y_test_sample_19, y_pred_ada_benchmark_19))\n",
    "\n",
    "# calculate accuracy\n",
    "accuracy_ada_benchmark_19 = accuracy_score(y_test_sample_19, y_pred_ada_benchmark_19)\n",
    "recall_ada_benchmark_19 = recall_score(y_test_sample_19, y_pred_ada_benchmark_19, average=\"weighted\")\n",
    "precision_ada_benchmark_19 = precision_score(y_test_sample_19, y_pred_ada_benchmark_19, average=\"weighted\")\n",
    "f1_ada_benchmark_19 = f1_score(y_test_sample_19, y_pred_ada_benchmark_19, average=\"weighted\")\n",
    "\n",
    "# print accuracy with 5 decimal places\n",
    "print(f\"Accuracy: {accuracy_ada_benchmark_19:.5f}\")"
   ]
  },
  {
   "cell_type": "markdown",
   "metadata": {},
   "source": [
    "#### Random Forest"
   ]
  },
  {
   "cell_type": "code",
   "execution_count": 19,
   "metadata": {},
   "outputs": [],
   "source": [
    "rf_benchmark = RandomForestClassifier(\n",
    "    n_estimators=100, \n",
    "    criterion='gini', \n",
    "    min_samples_split=2, \n",
    "    min_samples_leaf=1,\n",
    "    min_weight_fraction_leaf=0.0, \n",
    "    max_features='sqrt', \n",
    "    min_impurity_decrease=0.0,\n",
    "    bootstrap=True, \n",
    "    oob_score=False, \n",
    "    warm_start=False, \n",
    "    ccp_alpha=0.0, \n",
    "    n_jobs=-1, \n",
    "    random_state=1984\n",
    "    )"
   ]
  },
  {
   "cell_type": "markdown",
   "metadata": {},
   "source": [
    "#### Binary Classification"
   ]
  },
  {
   "cell_type": "code",
   "execution_count": 20,
   "metadata": {},
   "outputs": [],
   "source": [
    "rf_benchmark.fit(X_train_sample, y_train_sample_2) \n",
    "y_pred_rf_benchmark_2 = rf_benchmark.predict(X_test_sample)   "
   ]
  },
  {
   "cell_type": "code",
   "execution_count": 21,
   "metadata": {},
   "outputs": [
    {
     "name": "stdout",
     "output_type": "stream",
     "text": [
      "              precision    recall  f1-score   support\n",
      "\n",
      "      Attack       1.00      1.00      1.00      1579\n",
      "      Benign       0.97      0.89      0.93        35\n",
      "\n",
      "    accuracy                           1.00      1614\n",
      "   macro avg       0.98      0.94      0.96      1614\n",
      "weighted avg       1.00      1.00      1.00      1614\n",
      "\n",
      "Accuracy: 0.99690\n"
     ]
    }
   ],
   "source": [
    "# print the classification report\n",
    "report_rf_benchmark_2 = classification_report(y_test_sample_2, y_pred_rf_benchmark_2, output_dict=True)\n",
    "print(classification_report(y_test_sample_2, y_pred_rf_benchmark_2))\n",
    "\n",
    "# calculate accuracy\n",
    "accuracy_rf_benchmark_2 = accuracy_score(y_test_sample_2, y_pred_rf_benchmark_2)\n",
    "recall_rf_benchmark_2 = recall_score(y_test_sample_2, y_pred_rf_benchmark_2, average=\"weighted\")\n",
    "precision_rf_benchmark_2 = precision_score(y_test_sample_2, y_pred_rf_benchmark_2, average=\"weighted\")\n",
    "f1_rf_benchmark_2 = f1_score(y_test_sample_2, y_pred_rf_benchmark_2, average=\"weighted\")\n",
    "\n",
    "# print accuracy with 5 decimal places\n",
    "print(f\"Accuracy: {accuracy_rf_benchmark_2:.5f}\")"
   ]
  },
  {
   "cell_type": "markdown",
   "metadata": {},
   "source": [
    "#### 6 Class Classification"
   ]
  },
  {
   "cell_type": "code",
   "execution_count": 22,
   "metadata": {},
   "outputs": [],
   "source": [
    "rf_benchmark.fit(X_train_sample, y_train_sample_6) \n",
    "y_pred_rf_benchmark_6 = rf_benchmark.predict(X_test_sample)   "
   ]
  },
  {
   "cell_type": "code",
   "execution_count": 23,
   "metadata": {},
   "outputs": [
    {
     "name": "stdout",
     "output_type": "stream",
     "text": [
      "              precision    recall  f1-score   support\n",
      "\n",
      "      Benign       0.91      0.91      0.91        35\n",
      "        DDos       1.00      1.00      1.00      1053\n",
      "         Dos       1.00      1.00      1.00       438\n",
      "        MQTT       1.00      1.00      1.00        62\n",
      "       Recon       0.86      0.96      0.91        25\n",
      "    Spoofing       0.00      0.00      0.00         1\n",
      "\n",
      "    accuracy                           1.00      1614\n",
      "   macro avg       0.80      0.81      0.80      1614\n",
      "weighted avg       0.99      1.00      0.99      1614\n",
      "\n",
      "Accuracy: 0.99504\n"
     ]
    },
    {
     "name": "stderr",
     "output_type": "stream",
     "text": [
      "/Applications/anaconda3/lib/python3.8/site-packages/sklearn/metrics/_classification.py:1245: UndefinedMetricWarning: Precision and F-score are ill-defined and being set to 0.0 in labels with no predicted samples. Use `zero_division` parameter to control this behavior.\n",
      "  _warn_prf(average, modifier, msg_start, len(result))\n",
      "/Applications/anaconda3/lib/python3.8/site-packages/sklearn/metrics/_classification.py:1245: UndefinedMetricWarning: Precision and F-score are ill-defined and being set to 0.0 in labels with no predicted samples. Use `zero_division` parameter to control this behavior.\n",
      "  _warn_prf(average, modifier, msg_start, len(result))\n",
      "/Applications/anaconda3/lib/python3.8/site-packages/sklearn/metrics/_classification.py:1245: UndefinedMetricWarning: Precision and F-score are ill-defined and being set to 0.0 in labels with no predicted samples. Use `zero_division` parameter to control this behavior.\n",
      "  _warn_prf(average, modifier, msg_start, len(result))\n",
      "/Applications/anaconda3/lib/python3.8/site-packages/sklearn/metrics/_classification.py:1245: UndefinedMetricWarning: Precision and F-score are ill-defined and being set to 0.0 in labels with no predicted samples. Use `zero_division` parameter to control this behavior.\n",
      "  _warn_prf(average, modifier, msg_start, len(result))\n",
      "/Applications/anaconda3/lib/python3.8/site-packages/sklearn/metrics/_classification.py:1245: UndefinedMetricWarning: Precision and F-score are ill-defined and being set to 0.0 in labels with no predicted samples. Use `zero_division` parameter to control this behavior.\n",
      "  _warn_prf(average, modifier, msg_start, len(result))\n",
      "/Applications/anaconda3/lib/python3.8/site-packages/sklearn/metrics/_classification.py:1245: UndefinedMetricWarning: Precision and F-score are ill-defined and being set to 0.0 in labels with no predicted samples. Use `zero_division` parameter to control this behavior.\n",
      "  _warn_prf(average, modifier, msg_start, len(result))\n",
      "/Applications/anaconda3/lib/python3.8/site-packages/sklearn/metrics/_classification.py:1245: UndefinedMetricWarning: Precision is ill-defined and being set to 0.0 in labels with no predicted samples. Use `zero_division` parameter to control this behavior.\n",
      "  _warn_prf(average, modifier, msg_start, len(result))\n"
     ]
    }
   ],
   "source": [
    "# print the classification report\n",
    "report_rf_benchmark_6 = classification_report(y_test_sample_6, y_pred_rf_benchmark_6, output_dict=True)\n",
    "print(classification_report(y_test_sample_6, y_pred_rf_benchmark_6))\n",
    "\n",
    "# calculate accuracy\n",
    "accuracy_rf_benchmark_6 = accuracy_score(y_test_sample_6, y_pred_rf_benchmark_6)\n",
    "recall_rf_benchmark_6 = recall_score(y_test_sample_6, y_pred_rf_benchmark_6, average=\"weighted\")\n",
    "precision_rf_benchmark_6 = precision_score(y_test_sample_6, y_pred_rf_benchmark_6, average=\"weighted\")\n",
    "f1_rf_benchmark_6 = f1_score(y_test_sample_6, y_pred_rf_benchmark_6, average=\"weighted\")\n",
    "\n",
    "# print accuracy with 5 decimal places\n",
    "print(f\"Accuracy: {accuracy_rf_benchmark_6:.5f}\")"
   ]
  },
  {
   "cell_type": "markdown",
   "metadata": {},
   "source": [
    "#### 19 Class Classification"
   ]
  },
  {
   "cell_type": "code",
   "execution_count": 24,
   "metadata": {},
   "outputs": [],
   "source": [
    "rf_benchmark.fit(X_train_sample, y_train_sample_19) \n",
    "y_pred_rf_benchmark_19 = rf_benchmark.predict(X_test_sample)    "
   ]
  },
  {
   "cell_type": "code",
   "execution_count": 25,
   "metadata": {},
   "outputs": [
    {
     "name": "stdout",
     "output_type": "stream",
     "text": [
      "                    precision    recall  f1-score   support\n",
      "\n",
      "      ARP_spoofing       0.00      0.00      0.00         1\n",
      "            Benign       0.91      0.91      0.91        35\n",
      "         DDoS_ICMP       1.00      1.00      1.00       352\n",
      "          DDoS_SYN       1.00      1.00      1.00       177\n",
      "          DDoS_TCP       1.00      1.00      1.00       157\n",
      "          DDoS_UDP       1.00      1.00      1.00       367\n",
      "DDoS_connect_flood       1.00      1.00      1.00        41\n",
      "DDoS_publish_flood       1.00      0.11      0.20         9\n",
      "          DoS_ICMP       1.00      0.99      1.00       120\n",
      "           DoS_SYN       1.00      1.00      1.00        97\n",
      "           DoS_TCP       1.00      1.00      1.00        78\n",
      "           DoS_UDP       1.00      1.00      1.00       143\n",
      " DoS_connect_flood       1.00      1.00      1.00         1\n",
      " DoS_publish_flood       0.58      1.00      0.73        11\n",
      "           OS_scan       1.00      0.33      0.50         3\n",
      "         Port_scan       0.78      1.00      0.88        21\n",
      "        ping_sweep       0.00      0.00      0.00         1\n",
      "\n",
      "          accuracy                           0.99      1614\n",
      "         macro avg       0.84      0.79      0.78      1614\n",
      "      weighted avg       0.99      0.99      0.99      1614\n",
      "\n",
      "Accuracy: 0.98947\n"
     ]
    },
    {
     "name": "stderr",
     "output_type": "stream",
     "text": [
      "/Applications/anaconda3/lib/python3.8/site-packages/sklearn/metrics/_classification.py:1245: UndefinedMetricWarning: Precision and F-score are ill-defined and being set to 0.0 in labels with no predicted samples. Use `zero_division` parameter to control this behavior.\n",
      "  _warn_prf(average, modifier, msg_start, len(result))\n",
      "/Applications/anaconda3/lib/python3.8/site-packages/sklearn/metrics/_classification.py:1245: UndefinedMetricWarning: Precision and F-score are ill-defined and being set to 0.0 in labels with no predicted samples. Use `zero_division` parameter to control this behavior.\n",
      "  _warn_prf(average, modifier, msg_start, len(result))\n",
      "/Applications/anaconda3/lib/python3.8/site-packages/sklearn/metrics/_classification.py:1245: UndefinedMetricWarning: Precision and F-score are ill-defined and being set to 0.0 in labels with no predicted samples. Use `zero_division` parameter to control this behavior.\n",
      "  _warn_prf(average, modifier, msg_start, len(result))\n",
      "/Applications/anaconda3/lib/python3.8/site-packages/sklearn/metrics/_classification.py:1245: UndefinedMetricWarning: Precision and F-score are ill-defined and being set to 0.0 in labels with no predicted samples. Use `zero_division` parameter to control this behavior.\n",
      "  _warn_prf(average, modifier, msg_start, len(result))\n",
      "/Applications/anaconda3/lib/python3.8/site-packages/sklearn/metrics/_classification.py:1245: UndefinedMetricWarning: Precision and F-score are ill-defined and being set to 0.0 in labels with no predicted samples. Use `zero_division` parameter to control this behavior.\n",
      "  _warn_prf(average, modifier, msg_start, len(result))\n",
      "/Applications/anaconda3/lib/python3.8/site-packages/sklearn/metrics/_classification.py:1245: UndefinedMetricWarning: Precision and F-score are ill-defined and being set to 0.0 in labels with no predicted samples. Use `zero_division` parameter to control this behavior.\n",
      "  _warn_prf(average, modifier, msg_start, len(result))\n",
      "/Applications/anaconda3/lib/python3.8/site-packages/sklearn/metrics/_classification.py:1245: UndefinedMetricWarning: Precision is ill-defined and being set to 0.0 in labels with no predicted samples. Use `zero_division` parameter to control this behavior.\n",
      "  _warn_prf(average, modifier, msg_start, len(result))\n"
     ]
    }
   ],
   "source": [
    "# print the classification report\n",
    "report_rf_benchmark_19 = classification_report(y_test_sample_19, y_pred_rf_benchmark_19, output_dict=True)\n",
    "print(classification_report(y_test_sample_19, y_pred_rf_benchmark_19))\n",
    "\n",
    "# calculate accuracy\n",
    "accuracy_rf_benchmark_19 = accuracy_score(y_test_sample_19, y_pred_rf_benchmark_19)\n",
    "recall_rf_benchmark_19 = recall_score(y_test_sample_19, y_pred_rf_benchmark_19, average=\"weighted\")\n",
    "precision_rf_benchmark_19 = precision_score(y_test_sample_19, y_pred_rf_benchmark_19, average=\"weighted\")\n",
    "f1_rf_benchmark_19 = f1_score(y_test_sample_19, y_pred_rf_benchmark_19, average=\"weighted\")\n",
    "\n",
    "# print accuracy with 5 decimal places\n",
    "print(f\"Accuracy: {accuracy_rf_benchmark_19:.5f}\")"
   ]
  },
  {
   "cell_type": "markdown",
   "metadata": {},
   "source": [
    "## GA Code"
   ]
  },
  {
   "cell_type": "markdown",
   "metadata": {},
   "source": [
    "## Feature Selection With GA "
   ]
  },
  {
   "cell_type": "markdown",
   "metadata": {},
   "source": [
    "### FUNCTION: Feature reduction with Genetics Algorithm"
   ]
  },
  {
   "cell_type": "code",
   "execution_count": 26,
   "metadata": {},
   "outputs": [],
   "source": [
    "# define overall function (just combined 4 code chunks above into 1 easy to use function)\n",
    "def ga_feature_reduction(X_train_sample, y_train_sample, X_test_sample, y_test_sample, \n",
    "                         population_size=20, n_generations=50, mutation_rate=0.1, \n",
    "                         num_elites=2, CLASSIFIER=\"rf\", metric=\"accuracy\"):\n",
    "    # Validate inputs\n",
    "    if population_size % 2 != 0:\n",
    "        raise ValueError(\"Population size must be an even number.\")\n",
    "    \n",
    "    # Get the number of features for individual length\n",
    "    n_features = X_train_sample.shape[1]\n",
    "    \n",
    "    # Initialize population with random binary values (0 or 1)\n",
    "    population = np.random.randint(2, size=(population_size, n_features))\n",
    "    \n",
    "    best_fitness_overall = 0\n",
    "    best_individual_overall = None\n",
    "    termination_reason = None\n",
    "\n",
    "    # Main loop for the genetic algorithm\n",
    "    for generation in range(n_generations):\n",
    "        print(f\"LOOP STEP: Generation {generation + 1}\")\n",
    "\n",
    "        # Calculate fitness scores for the current population\n",
    "        fitness_scores = np.array([fitness_function(individual, y_train_sample, y_test_sample, CLASSIFIER, metric) \n",
    "                                    for individual in population])\n",
    "        print(f\"Fitness Scores: {fitness_scores}\") \n",
    "        \n",
    "        # Track the best individual in the current generation\n",
    "        current_best_fitness = np.max(fitness_scores)\n",
    "        current_best_individual = population[np.argmax(fitness_scores)]\n",
    "        \n",
    "        # Update overall best fitness and individual if necessary\n",
    "        if current_best_fitness > best_fitness_overall:\n",
    "            best_fitness_overall = current_best_fitness\n",
    "            best_individual_overall = current_best_individual\n",
    "        \n",
    "        print(f\"Overall best fitness: {best_fitness_overall:.7f}, Overall best individual: {best_individual_overall}\")\n",
    "\n",
    "        # Selection: roulette wheel selection based on fitness\n",
    "        probabilities = fitness_scores / np.sum(fitness_scores)\n",
    "        selected_indices = np.random.choice(np.arange(population_size), size=population_size, p=probabilities)\n",
    "        selected_population = population[selected_indices]\n",
    "\n",
    "        # Elitism: preserve the best individuals\n",
    "        elite_indices = np.argsort(fitness_scores)[-num_elites:]\n",
    "        elite_population = population[elite_indices]\n",
    "\n",
    "        # Crossover: single-point crossover\n",
    "        offspring = []\n",
    "        for i in range(0, population_size, 2):\n",
    "            parent1, parent2 = selected_population[i], selected_population[i + 1]\n",
    "            crossover_point = np.random.randint(1, n_features - 1)\n",
    "            child1 = np.concatenate([parent1[:crossover_point], parent2[crossover_point:]])\n",
    "            child2 = np.concatenate([parent2[:crossover_point], parent1[crossover_point:]])\n",
    "            offspring.extend([child1, child2])\n",
    "\n",
    "        offspring = np.array(offspring[:population_size - num_elites])  # Ensure correct size by trimming excess\n",
    "\n",
    "        # Mutation: flip bits with a probability of mutation_rate\n",
    "        for individual in offspring:\n",
    "            mutation_mask = np.random.rand(n_features) < mutation_rate\n",
    "            individual[mutation_mask] = 1 - individual[mutation_mask]\n",
    "\n",
    "        # Replace the population with offspring plus elite individuals\n",
    "        population = np.vstack((elite_population, offspring))\n",
    "    \n",
    "    # Function output\n",
    "    print(f\"Termination Reason: {termination_reason}\")\n",
    "    print(f\"Best Fitness: {best_fitness_overall}\")\n",
    "    print(f\"Best Individual: {best_individual_overall}\")\n",
    "    return best_fitness_overall, best_individual_overall\n",
    "\n",
    "def fitness_function(individual, y_train_sample, y_test_sample, CLASSIFIER=\"rf\", metric=\"accuracy\"):\n",
    "    selected_features = np.where(individual == 1)[0]  # Select features based on individual's genes\n",
    "    \n",
    "    if len(selected_features) == 0:  # Avoid empty feature set\n",
    "        return 0\n",
    "    \n",
    "    X_train_selected = X_train_sample[:, selected_features]\n",
    "    X_test_selected = X_test_sample[:, selected_features]\n",
    "\n",
    "    if CLASSIFIER == 'lr':\n",
    "        lr = LogisticRegression()\n",
    "        lr.fit(X_train_selected, y_train_sample)\n",
    "        y_pred = lr.predict(X_test_selected)\n",
    "\n",
    "    elif CLASSIFIER == 'ada':\n",
    "        ada = AdaBoostClassifier(DecisionTreeClassifier(), n_estimators=50, learning_rate=1.0, algorithm='SAMME.R', random_state=1984)\n",
    "        ada.fit(X_train_selected, y_train_sample)\n",
    "        y_pred = ada.predict(X_test_selected)\n",
    "\n",
    "    elif CLASSIFIER == 'rf':\n",
    "        rf = RandomForestClassifier()\n",
    "        rf.fit(X_train_selected, y_train_sample)\n",
    "        y_pred = rf.predict(X_test_selected)\n",
    "\n",
    "    # Calculate the chosen metric\n",
    "    if metric == 'accuracy':\n",
    "        score = accuracy_score(y_test_sample, y_pred)\n",
    "    elif metric == 'precision':\n",
    "        score = precision_score(y_test_sample, y_pred, average='weighted')\n",
    "    elif metric == 'recall':\n",
    "        score = recall_score(y_test_sample, y_pred, average='weighted')\n",
    "    elif metric == 'f1':\n",
    "        score = f1_score(y_test_sample, y_pred, average='weighted')\n",
    "    else:\n",
    "        raise ValueError(\"Invalid metric. Choose from 'accuracy', 'precision', 'recall', or 'f1'.\")\n",
    "\n",
    "    return score\n"
   ]
  },
  {
   "cell_type": "markdown",
   "metadata": {},
   "source": [
    "## Feature Selection With GA"
   ]
  },
  {
   "cell_type": "code",
   "execution_count": 27,
   "metadata": {},
   "outputs": [],
   "source": [
    "# Hyperparameters\n",
    "population_size = 4\n",
    "n_generations = 3\n",
    "mutation_rate = 0.1\n",
    "num_elites = 2\n",
    "metric = \"accuracy\""
   ]
  },
  {
   "cell_type": "markdown",
   "metadata": {},
   "source": [
    "### Logistic Regression"
   ]
  },
  {
   "cell_type": "markdown",
   "metadata": {},
   "source": [
    "#### Binary Classification"
   ]
  },
  {
   "cell_type": "code",
   "execution_count": 28,
   "metadata": {},
   "outputs": [
    {
     "name": "stdout",
     "output_type": "stream",
     "text": [
      "LOOP STEP: Generation 1\n"
     ]
    },
    {
     "name": "stderr",
     "output_type": "stream",
     "text": [
      "/Applications/anaconda3/lib/python3.8/site-packages/sklearn/linear_model/_logistic.py:763: ConvergenceWarning: lbfgs failed to converge (status=1):\n",
      "STOP: TOTAL NO. of ITERATIONS REACHED LIMIT.\n",
      "\n",
      "Increase the number of iterations (max_iter) or scale the data as shown in:\n",
      "    https://scikit-learn.org/stable/modules/preprocessing.html\n",
      "Please also refer to the documentation for alternative solver options:\n",
      "    https://scikit-learn.org/stable/modules/linear_model.html#logistic-regression\n",
      "  n_iter_i = _check_optimize_result(\n",
      "/Applications/anaconda3/lib/python3.8/site-packages/sklearn/linear_model/_logistic.py:763: ConvergenceWarning: lbfgs failed to converge (status=1):\n",
      "STOP: TOTAL NO. of ITERATIONS REACHED LIMIT.\n",
      "\n",
      "Increase the number of iterations (max_iter) or scale the data as shown in:\n",
      "    https://scikit-learn.org/stable/modules/preprocessing.html\n",
      "Please also refer to the documentation for alternative solver options:\n",
      "    https://scikit-learn.org/stable/modules/linear_model.html#logistic-regression\n",
      "  n_iter_i = _check_optimize_result(\n",
      "/Applications/anaconda3/lib/python3.8/site-packages/sklearn/linear_model/_logistic.py:763: ConvergenceWarning: lbfgs failed to converge (status=1):\n",
      "STOP: TOTAL NO. of ITERATIONS REACHED LIMIT.\n",
      "\n",
      "Increase the number of iterations (max_iter) or scale the data as shown in:\n",
      "    https://scikit-learn.org/stable/modules/preprocessing.html\n",
      "Please also refer to the documentation for alternative solver options:\n",
      "    https://scikit-learn.org/stable/modules/linear_model.html#logistic-regression\n",
      "  n_iter_i = _check_optimize_result(\n"
     ]
    },
    {
     "name": "stdout",
     "output_type": "stream",
     "text": [
      "Fitness Scores: [0.98203222 0.98141264 0.98513011 0.98203222]\n",
      "Overall best fitness: 0.9851301, Overall best individual: [0 1 1 0 1 0 0 1 0 1 0 1 0 1 1 0 0 0 0 1 0 1 0 1 1 0 1 0 1 0 1 1 0 1 1 0 1\n",
      " 1 1 0 1 0 1 0 0]\n",
      "LOOP STEP: Generation 2\n"
     ]
    },
    {
     "name": "stderr",
     "output_type": "stream",
     "text": [
      "/Applications/anaconda3/lib/python3.8/site-packages/sklearn/linear_model/_logistic.py:763: ConvergenceWarning: lbfgs failed to converge (status=1):\n",
      "STOP: TOTAL NO. of ITERATIONS REACHED LIMIT.\n",
      "\n",
      "Increase the number of iterations (max_iter) or scale the data as shown in:\n",
      "    https://scikit-learn.org/stable/modules/preprocessing.html\n",
      "Please also refer to the documentation for alternative solver options:\n",
      "    https://scikit-learn.org/stable/modules/linear_model.html#logistic-regression\n",
      "  n_iter_i = _check_optimize_result(\n",
      "/Applications/anaconda3/lib/python3.8/site-packages/sklearn/linear_model/_logistic.py:763: ConvergenceWarning: lbfgs failed to converge (status=1):\n",
      "STOP: TOTAL NO. of ITERATIONS REACHED LIMIT.\n",
      "\n",
      "Increase the number of iterations (max_iter) or scale the data as shown in:\n",
      "    https://scikit-learn.org/stable/modules/preprocessing.html\n",
      "Please also refer to the documentation for alternative solver options:\n",
      "    https://scikit-learn.org/stable/modules/linear_model.html#logistic-regression\n",
      "  n_iter_i = _check_optimize_result(\n"
     ]
    },
    {
     "name": "stdout",
     "output_type": "stream",
     "text": [
      "Fitness Scores: [0.98203222 0.98513011 0.9826518  0.98327138]\n",
      "Overall best fitness: 0.9851301, Overall best individual: [0 1 1 0 1 0 0 1 0 1 0 1 0 1 1 0 0 0 0 1 0 1 0 1 1 0 1 0 1 0 1 1 0 1 1 0 1\n",
      " 1 1 0 1 0 1 0 0]\n",
      "LOOP STEP: Generation 3\n"
     ]
    },
    {
     "name": "stderr",
     "output_type": "stream",
     "text": [
      "/Applications/anaconda3/lib/python3.8/site-packages/sklearn/linear_model/_logistic.py:763: ConvergenceWarning: lbfgs failed to converge (status=1):\n",
      "STOP: TOTAL NO. of ITERATIONS REACHED LIMIT.\n",
      "\n",
      "Increase the number of iterations (max_iter) or scale the data as shown in:\n",
      "    https://scikit-learn.org/stable/modules/preprocessing.html\n",
      "Please also refer to the documentation for alternative solver options:\n",
      "    https://scikit-learn.org/stable/modules/linear_model.html#logistic-regression\n",
      "  n_iter_i = _check_optimize_result(\n",
      "/Applications/anaconda3/lib/python3.8/site-packages/sklearn/linear_model/_logistic.py:763: ConvergenceWarning: lbfgs failed to converge (status=1):\n",
      "STOP: TOTAL NO. of ITERATIONS REACHED LIMIT.\n",
      "\n",
      "Increase the number of iterations (max_iter) or scale the data as shown in:\n",
      "    https://scikit-learn.org/stable/modules/preprocessing.html\n",
      "Please also refer to the documentation for alternative solver options:\n",
      "    https://scikit-learn.org/stable/modules/linear_model.html#logistic-regression\n",
      "  n_iter_i = _check_optimize_result(\n"
     ]
    },
    {
     "name": "stdout",
     "output_type": "stream",
     "text": [
      "Fitness Scores: [0.98327138 0.98513011 0.97769517 0.98079306]\n",
      "Overall best fitness: 0.9851301, Overall best individual: [0 1 1 0 1 0 0 1 0 1 0 1 0 1 1 0 0 0 0 1 0 1 0 1 1 0 1 0 1 0 1 1 0 1 1 0 1\n",
      " 1 1 0 1 0 1 0 0]\n",
      "Termination Reason: None\n",
      "Best Fitness: 0.9851301115241635\n",
      "Best Individual: [0 1 1 0 1 0 0 1 0 1 0 1 0 1 1 0 0 0 0 1 0 1 0 1 1 0 1 0 1 0 1 1 0 1 1 0 1\n",
      " 1 1 0 1 0 1 0 0]\n"
     ]
    },
    {
     "name": "stderr",
     "output_type": "stream",
     "text": [
      "/Applications/anaconda3/lib/python3.8/site-packages/sklearn/linear_model/_logistic.py:763: ConvergenceWarning: lbfgs failed to converge (status=1):\n",
      "STOP: TOTAL NO. of ITERATIONS REACHED LIMIT.\n",
      "\n",
      "Increase the number of iterations (max_iter) or scale the data as shown in:\n",
      "    https://scikit-learn.org/stable/modules/preprocessing.html\n",
      "Please also refer to the documentation for alternative solver options:\n",
      "    https://scikit-learn.org/stable/modules/linear_model.html#logistic-regression\n",
      "  n_iter_i = _check_optimize_result(\n"
     ]
    }
   ],
   "source": [
    "# Call the GA function\n",
    "global_best_fitness, global_best_position = ga_feature_reduction(\n",
    "    X_train_sample = X_train_sample,\n",
    "    y_train_sample = y_train_sample_2,\n",
    "    X_test_sample = X_test_sample,\n",
    "    y_test_sample = y_test_sample_2,\n",
    "    population_size = population_size,\n",
    "    n_generations = n_generations,\n",
    "    mutation_rate = mutation_rate,\n",
    "    num_elites = num_elites,\n",
    "    CLASSIFIER = \"lr\",\n",
    "    metric = metric\n",
    ")"
   ]
  },
  {
   "cell_type": "code",
   "execution_count": 29,
   "metadata": {},
   "outputs": [],
   "source": [
    "# use the best features identified by GA\n",
    "selected_features = np.array(global_best_position, dtype=bool)\n",
    "# Apply the selected features to your datasets\n",
    "X_train_selected = X_train_sample[:, selected_features]\n",
    "X_test_selected = X_test_sample[:, selected_features]\n",
    "\n",
    "lr_benchmark.fit(X_train_selected, y_train_sample_2) \n",
    "y_pred_lr_ga_2 = lr_benchmark.predict(X_test_selected)  \n"
   ]
  },
  {
   "cell_type": "code",
   "execution_count": 30,
   "metadata": {},
   "outputs": [
    {
     "name": "stdout",
     "output_type": "stream",
     "text": [
      "              precision    recall  f1-score   support\n",
      "\n",
      "      Attack       0.99      1.00      0.99      1579\n",
      "      Benign       0.79      0.43      0.56        35\n",
      "\n",
      "    accuracy                           0.99      1614\n",
      "   macro avg       0.89      0.71      0.77      1614\n",
      "weighted avg       0.98      0.99      0.98      1614\n",
      "\n",
      "Number of selected features: 23\n",
      "Accuracy: 0.98513\n"
     ]
    }
   ],
   "source": [
    "# print the classification report\n",
    "report_lr_ga_2 = classification_report(y_test_sample_2, y_pred_lr_ga_2, output_dict=True)\n",
    "print(classification_report(y_test_sample_2, y_pred_lr_ga_2))\n",
    "\n",
    "print(f\"Number of selected features: {X_train_selected.shape[1]}\")\n",
    "\n",
    "# calculate accuracy\n",
    "accuracy_lr_ga_2 = accuracy_score(y_test_sample_2, y_pred_lr_ga_2)\n",
    "recall_lr_ga_2 = recall_score(y_test_sample_2, y_pred_lr_ga_2, average=\"weighted\")\n",
    "precision_lr_ga_2 = precision_score(y_test_sample_2, y_pred_lr_ga_2, average=\"weighted\")\n",
    "f1_lr_ga_2 = f1_score(y_test_sample_2, y_pred_lr_ga_2, average=\"weighted\")\n",
    "\n",
    "# print accuracy with 5 decimal places\n",
    "print(f\"Accuracy: {accuracy_lr_ga_2:.5f}\")"
   ]
  },
  {
   "cell_type": "code",
   "execution_count": 31,
   "metadata": {},
   "outputs": [
    {
     "data": {
      "image/png": "[encoded data removed]",
      "text/plain": [
       "<Figure size 1080x864 with 2 Axes>"
      ]
     },
     "metadata": {
      "needs_background": "light"
     },
     "output_type": "display_data"
    }
   ],
   "source": [
    "# generate the confusion matrix\n",
    "cm_lr_ga_2 = confusion_matrix(y_test_sample_2, y_pred_lr_ga_2)\n",
    "\n",
    "# visualize the confusion matrix using seaborn\n",
    "plt.figure(figsize=(15, 12))\n",
    "sns.heatmap(cm_lr_ga_2, annot=True, fmt='d', cmap='Blues', xticklabels=lr_benchmark.classes_, yticklabels=lr_benchmark.classes_)\n",
    "plt.xlabel('Predicted Labels')\n",
    "plt.ylabel('True Labels')\n",
    "plt.title('Confusion Matrix')\n",
    "plt.show()"
   ]
  },
  {
   "cell_type": "markdown",
   "metadata": {},
   "source": [
    "#### 6 Class Classification"
   ]
  },
  {
   "cell_type": "code",
   "execution_count": 32,
   "metadata": {},
   "outputs": [
    {
     "name": "stdout",
     "output_type": "stream",
     "text": [
      "LOOP STEP: Generation 1\n"
     ]
    },
    {
     "name": "stderr",
     "output_type": "stream",
     "text": [
      "/Applications/anaconda3/lib/python3.8/site-packages/sklearn/linear_model/_logistic.py:763: ConvergenceWarning: lbfgs failed to converge (status=1):\n",
      "STOP: TOTAL NO. of ITERATIONS REACHED LIMIT.\n",
      "\n",
      "Increase the number of iterations (max_iter) or scale the data as shown in:\n",
      "    https://scikit-learn.org/stable/modules/preprocessing.html\n",
      "Please also refer to the documentation for alternative solver options:\n",
      "    https://scikit-learn.org/stable/modules/linear_model.html#logistic-regression\n",
      "  n_iter_i = _check_optimize_result(\n",
      "/Applications/anaconda3/lib/python3.8/site-packages/sklearn/linear_model/_logistic.py:763: ConvergenceWarning: lbfgs failed to converge (status=1):\n",
      "STOP: TOTAL NO. of ITERATIONS REACHED LIMIT.\n",
      "\n",
      "Increase the number of iterations (max_iter) or scale the data as shown in:\n",
      "    https://scikit-learn.org/stable/modules/preprocessing.html\n",
      "Please also refer to the documentation for alternative solver options:\n",
      "    https://scikit-learn.org/stable/modules/linear_model.html#logistic-regression\n",
      "  n_iter_i = _check_optimize_result(\n",
      "/Applications/anaconda3/lib/python3.8/site-packages/sklearn/linear_model/_logistic.py:763: ConvergenceWarning: lbfgs failed to converge (status=1):\n",
      "STOP: TOTAL NO. of ITERATIONS REACHED LIMIT.\n",
      "\n",
      "Increase the number of iterations (max_iter) or scale the data as shown in:\n",
      "    https://scikit-learn.org/stable/modules/preprocessing.html\n",
      "Please also refer to the documentation for alternative solver options:\n",
      "    https://scikit-learn.org/stable/modules/linear_model.html#logistic-regression\n",
      "  n_iter_i = _check_optimize_result(\n"
     ]
    },
    {
     "name": "stdout",
     "output_type": "stream",
     "text": [
      "Fitness Scores: [0.66480793 0.66542751 0.65303594 0.65675341]\n",
      "Overall best fitness: 0.6654275, Overall best individual: [1 0 0 1 1 1 0 1 0 0 1 1 1 1 0 1 0 1 1 0 1 0 1 0 1 0 1 0 0 1 1 1 1 0 1 1 1\n",
      " 0 1 0 1 1 0 1 0]\n",
      "LOOP STEP: Generation 2\n"
     ]
    },
    {
     "name": "stderr",
     "output_type": "stream",
     "text": [
      "/Applications/anaconda3/lib/python3.8/site-packages/sklearn/linear_model/_logistic.py:763: ConvergenceWarning: lbfgs failed to converge (status=1):\n",
      "STOP: TOTAL NO. of ITERATIONS REACHED LIMIT.\n",
      "\n",
      "Increase the number of iterations (max_iter) or scale the data as shown in:\n",
      "    https://scikit-learn.org/stable/modules/preprocessing.html\n",
      "Please also refer to the documentation for alternative solver options:\n",
      "    https://scikit-learn.org/stable/modules/linear_model.html#logistic-regression\n",
      "  n_iter_i = _check_optimize_result(\n",
      "/Applications/anaconda3/lib/python3.8/site-packages/sklearn/linear_model/_logistic.py:763: ConvergenceWarning: lbfgs failed to converge (status=1):\n",
      "STOP: TOTAL NO. of ITERATIONS REACHED LIMIT.\n",
      "\n",
      "Increase the number of iterations (max_iter) or scale the data as shown in:\n",
      "    https://scikit-learn.org/stable/modules/preprocessing.html\n",
      "Please also refer to the documentation for alternative solver options:\n",
      "    https://scikit-learn.org/stable/modules/linear_model.html#logistic-regression\n",
      "  n_iter_i = _check_optimize_result(\n",
      "/Applications/anaconda3/lib/python3.8/site-packages/sklearn/linear_model/_logistic.py:763: ConvergenceWarning: lbfgs failed to converge (status=1):\n",
      "STOP: TOTAL NO. of ITERATIONS REACHED LIMIT.\n",
      "\n",
      "Increase the number of iterations (max_iter) or scale the data as shown in:\n",
      "    https://scikit-learn.org/stable/modules/preprocessing.html\n",
      "Please also refer to the documentation for alternative solver options:\n",
      "    https://scikit-learn.org/stable/modules/linear_model.html#logistic-regression\n",
      "  n_iter_i = _check_optimize_result(\n"
     ]
    },
    {
     "name": "stdout",
     "output_type": "stream",
     "text": [
      "Fitness Scores: [0.66480793 0.66542751 0.65241636 0.65303594]\n",
      "Overall best fitness: 0.6654275, Overall best individual: [1 0 0 1 1 1 0 1 0 0 1 1 1 1 0 1 0 1 1 0 1 0 1 0 1 0 1 0 0 1 1 1 1 0 1 1 1\n",
      " 0 1 0 1 1 0 1 0]\n",
      "LOOP STEP: Generation 3\n"
     ]
    },
    {
     "name": "stderr",
     "output_type": "stream",
     "text": [
      "/Applications/anaconda3/lib/python3.8/site-packages/sklearn/linear_model/_logistic.py:763: ConvergenceWarning: lbfgs failed to converge (status=1):\n",
      "STOP: TOTAL NO. of ITERATIONS REACHED LIMIT.\n",
      "\n",
      "Increase the number of iterations (max_iter) or scale the data as shown in:\n",
      "    https://scikit-learn.org/stable/modules/preprocessing.html\n",
      "Please also refer to the documentation for alternative solver options:\n",
      "    https://scikit-learn.org/stable/modules/linear_model.html#logistic-regression\n",
      "  n_iter_i = _check_optimize_result(\n",
      "/Applications/anaconda3/lib/python3.8/site-packages/sklearn/linear_model/_logistic.py:763: ConvergenceWarning: lbfgs failed to converge (status=1):\n",
      "STOP: TOTAL NO. of ITERATIONS REACHED LIMIT.\n",
      "\n",
      "Increase the number of iterations (max_iter) or scale the data as shown in:\n",
      "    https://scikit-learn.org/stable/modules/preprocessing.html\n",
      "Please also refer to the documentation for alternative solver options:\n",
      "    https://scikit-learn.org/stable/modules/linear_model.html#logistic-regression\n",
      "  n_iter_i = _check_optimize_result(\n",
      "/Applications/anaconda3/lib/python3.8/site-packages/sklearn/linear_model/_logistic.py:763: ConvergenceWarning: lbfgs failed to converge (status=1):\n",
      "STOP: TOTAL NO. of ITERATIONS REACHED LIMIT.\n",
      "\n",
      "Increase the number of iterations (max_iter) or scale the data as shown in:\n",
      "    https://scikit-learn.org/stable/modules/preprocessing.html\n",
      "Please also refer to the documentation for alternative solver options:\n",
      "    https://scikit-learn.org/stable/modules/linear_model.html#logistic-regression\n",
      "  n_iter_i = _check_optimize_result(\n"
     ]
    },
    {
     "name": "stdout",
     "output_type": "stream",
     "text": [
      "Fitness Scores: [0.66480793 0.66542751 0.66790582 0.65861214]\n",
      "Overall best fitness: 0.6679058, Overall best individual: [1 1 1 1 1 0 0 0 1 0 0 0 0 0 1 1 1 1 0 1 0 1 1 0 0 0 1 1 1 1 1 0 0 0 0 1 0\n",
      " 1 0 0 0 0 0 0 0]\n",
      "Termination Reason: None\n",
      "Best Fitness: 0.667905824039653\n",
      "Best Individual: [1 1 1 1 1 0 0 0 1 0 0 0 0 0 1 1 1 1 0 1 0 1 1 0 0 0 1 1 1 1 1 0 0 0 0 1 0\n",
      " 1 0 0 0 0 0 0 0]\n"
     ]
    }
   ],
   "source": [
    "# Call the GA function\n",
    "global_best_fitness, global_best_position = ga_feature_reduction(\n",
    "    X_train_sample = X_train_sample,\n",
    "    y_train_sample = y_train_sample_6,\n",
    "    X_test_sample = X_test_sample,\n",
    "    y_test_sample = y_test_sample_6,\n",
    "    population_size = population_size,\n",
    "    n_generations = n_generations,\n",
    "    mutation_rate = mutation_rate,\n",
    "    num_elites = num_elites,\n",
    "    CLASSIFIER = \"lr\",\n",
    "    metric = metric\n",
    ")"
   ]
  },
  {
   "cell_type": "code",
   "execution_count": 33,
   "metadata": {},
   "outputs": [],
   "source": [
    "# use the best features identified by GA\n",
    "selected_features = np.array(global_best_position, dtype=bool)\n",
    "# Apply the selected features to your datasets\n",
    "X_train_selected = X_train_sample[:, selected_features]\n",
    "X_test_selected = X_test_sample[:, selected_features]\n",
    "\n",
    "lr_benchmark.fit(X_train_selected, y_train_sample_6) \n",
    "y_pred_lr_ga_6 = lr_benchmark.predict(X_test_selected)  "
   ]
  },
  {
   "cell_type": "code",
   "execution_count": 34,
   "metadata": {},
   "outputs": [
    {
     "name": "stdout",
     "output_type": "stream",
     "text": [
      "              precision    recall  f1-score   support\n",
      "\n",
      "      Benign       1.00      0.63      0.77        35\n",
      "        DDos       0.67      1.00      0.80      1053\n",
      "         Dos       0.00      0.00      0.00       438\n",
      "        MQTT       0.00      0.00      0.00        62\n",
      "       Recon       0.29      0.08      0.12        25\n",
      "    Spoofing       0.00      0.00      0.00         1\n",
      "\n",
      "    accuracy                           0.67      1614\n",
      "   macro avg       0.33      0.28      0.28      1614\n",
      "weighted avg       0.46      0.67      0.54      1614\n",
      "\n",
      "Number of selected features: 20\n",
      "Accuracy: 0.66667\n"
     ]
    },
    {
     "name": "stderr",
     "output_type": "stream",
     "text": [
      "/Applications/anaconda3/lib/python3.8/site-packages/sklearn/metrics/_classification.py:1245: UndefinedMetricWarning: Precision and F-score are ill-defined and being set to 0.0 in labels with no predicted samples. Use `zero_division` parameter to control this behavior.\n",
      "  _warn_prf(average, modifier, msg_start, len(result))\n",
      "/Applications/anaconda3/lib/python3.8/site-packages/sklearn/metrics/_classification.py:1245: UndefinedMetricWarning: Precision and F-score are ill-defined and being set to 0.0 in labels with no predicted samples. Use `zero_division` parameter to control this behavior.\n",
      "  _warn_prf(average, modifier, msg_start, len(result))\n",
      "/Applications/anaconda3/lib/python3.8/site-packages/sklearn/metrics/_classification.py:1245: UndefinedMetricWarning: Precision and F-score are ill-defined and being set to 0.0 in labels with no predicted samples. Use `zero_division` parameter to control this behavior.\n",
      "  _warn_prf(average, modifier, msg_start, len(result))\n",
      "/Applications/anaconda3/lib/python3.8/site-packages/sklearn/metrics/_classification.py:1245: UndefinedMetricWarning: Precision and F-score are ill-defined and being set to 0.0 in labels with no predicted samples. Use `zero_division` parameter to control this behavior.\n",
      "  _warn_prf(average, modifier, msg_start, len(result))\n",
      "/Applications/anaconda3/lib/python3.8/site-packages/sklearn/metrics/_classification.py:1245: UndefinedMetricWarning: Precision and F-score are ill-defined and being set to 0.0 in labels with no predicted samples. Use `zero_division` parameter to control this behavior.\n",
      "  _warn_prf(average, modifier, msg_start, len(result))\n",
      "/Applications/anaconda3/lib/python3.8/site-packages/sklearn/metrics/_classification.py:1245: UndefinedMetricWarning: Precision and F-score are ill-defined and being set to 0.0 in labels with no predicted samples. Use `zero_division` parameter to control this behavior.\n",
      "  _warn_prf(average, modifier, msg_start, len(result))\n",
      "/Applications/anaconda3/lib/python3.8/site-packages/sklearn/metrics/_classification.py:1245: UndefinedMetricWarning: Precision is ill-defined and being set to 0.0 in labels with no predicted samples. Use `zero_division` parameter to control this behavior.\n",
      "  _warn_prf(average, modifier, msg_start, len(result))\n"
     ]
    }
   ],
   "source": [
    "# print the classification report\n",
    "report_lr_ga_6 = classification_report(y_test_sample_6, y_pred_lr_ga_6, output_dict=True)\n",
    "print(classification_report(y_test_sample_6, y_pred_lr_ga_6))\n",
    "\n",
    "print(f\"Number of selected features: {X_train_selected.shape[1]}\")\n",
    "\n",
    "# calculate accuracy\n",
    "accuracy_lr_ga_6 = accuracy_score(y_test_sample_6, y_pred_lr_ga_6)\n",
    "recall_lr_ga_6 = recall_score(y_test_sample_6, y_pred_lr_ga_6, average=\"weighted\")\n",
    "precision_lr_ga_6 = precision_score(y_test_sample_6, y_pred_lr_ga_6, average=\"weighted\")\n",
    "f1_lr_ga_6 = f1_score(y_test_sample_6, y_pred_lr_ga_6, average=\"weighted\")\n",
    "\n",
    "# print accuracy with 5 decimal places\n",
    "print(f\"Accuracy: {accuracy_lr_ga_6:.5f}\")"
   ]
  },
  {
   "cell_type": "code",
   "execution_count": 35,
   "metadata": {},
   "outputs": [
    {
     "data": {
      "image/png": "[encoded data removed]",
      "text/plain": [
       "<Figure size 1080x864 with 2 Axes>"
      ]
     },
     "metadata": {
      "needs_background": "light"
     },
     "output_type": "display_data"
    }
   ],
   "source": [
    "# generate the confusion matrix\n",
    "cm_lr_ga_6 = confusion_matrix(y_test_sample_6, y_pred_lr_ga_6)\n",
    "\n",
    "# visualize the confusion matrix using seaborn\n",
    "plt.figure(figsize=(15, 12))\n",
    "sns.heatmap(cm_lr_ga_6, annot=True, fmt='d', cmap='Blues', xticklabels=lr_benchmark.classes_, yticklabels=lr_benchmark.classes_)\n",
    "plt.xlabel('Predicted Labels')\n",
    "plt.ylabel('True Labels')\n",
    "plt.title('Confusion Matrix')\n",
    "plt.show()"
   ]
  },
  {
   "cell_type": "markdown",
   "metadata": {},
   "source": [
    "#### 19 Class Classification"
   ]
  },
  {
   "cell_type": "code",
   "execution_count": 36,
   "metadata": {},
   "outputs": [
    {
     "name": "stdout",
     "output_type": "stream",
     "text": [
      "LOOP STEP: Generation 1\n"
     ]
    },
    {
     "name": "stderr",
     "output_type": "stream",
     "text": [
      "/Applications/anaconda3/lib/python3.8/site-packages/sklearn/linear_model/_logistic.py:763: ConvergenceWarning: lbfgs failed to converge (status=1):\n",
      "STOP: TOTAL NO. of ITERATIONS REACHED LIMIT.\n",
      "\n",
      "Increase the number of iterations (max_iter) or scale the data as shown in:\n",
      "    https://scikit-learn.org/stable/modules/preprocessing.html\n",
      "Please also refer to the documentation for alternative solver options:\n",
      "    https://scikit-learn.org/stable/modules/linear_model.html#logistic-regression\n",
      "  n_iter_i = _check_optimize_result(\n",
      "/Applications/anaconda3/lib/python3.8/site-packages/sklearn/linear_model/_logistic.py:763: ConvergenceWarning: lbfgs failed to converge (status=1):\n",
      "STOP: TOTAL NO. of ITERATIONS REACHED LIMIT.\n",
      "\n",
      "Increase the number of iterations (max_iter) or scale the data as shown in:\n",
      "    https://scikit-learn.org/stable/modules/preprocessing.html\n",
      "Please also refer to the documentation for alternative solver options:\n",
      "    https://scikit-learn.org/stable/modules/linear_model.html#logistic-regression\n",
      "  n_iter_i = _check_optimize_result(\n",
      "/Applications/anaconda3/lib/python3.8/site-packages/sklearn/linear_model/_logistic.py:763: ConvergenceWarning: lbfgs failed to converge (status=1):\n",
      "STOP: TOTAL NO. of ITERATIONS REACHED LIMIT.\n",
      "\n",
      "Increase the number of iterations (max_iter) or scale the data as shown in:\n",
      "    https://scikit-learn.org/stable/modules/preprocessing.html\n",
      "Please also refer to the documentation for alternative solver options:\n",
      "    https://scikit-learn.org/stable/modules/linear_model.html#logistic-regression\n",
      "  n_iter_i = _check_optimize_result(\n",
      "/Applications/anaconda3/lib/python3.8/site-packages/sklearn/linear_model/_logistic.py:763: ConvergenceWarning: lbfgs failed to converge (status=1):\n",
      "STOP: TOTAL NO. of ITERATIONS REACHED LIMIT.\n",
      "\n",
      "Increase the number of iterations (max_iter) or scale the data as shown in:\n",
      "    https://scikit-learn.org/stable/modules/preprocessing.html\n",
      "Please also refer to the documentation for alternative solver options:\n",
      "    https://scikit-learn.org/stable/modules/linear_model.html#logistic-regression\n",
      "  n_iter_i = _check_optimize_result(\n"
     ]
    },
    {
     "name": "stdout",
     "output_type": "stream",
     "text": [
      "Fitness Scores: [0.46034696 0.24039653 0.38289963 0.22986369]\n",
      "Overall best fitness: 0.4603470, Overall best individual: [1 0 1 0 1 1 1 0 1 0 0 1 1 0 1 1 1 1 1 0 1 0 1 0 1 1 0 1 1 0 0 0 0 0 0 1 1\n",
      " 0 0 0 1 1 0 0 0]\n",
      "LOOP STEP: Generation 2\n"
     ]
    },
    {
     "name": "stderr",
     "output_type": "stream",
     "text": [
      "/Applications/anaconda3/lib/python3.8/site-packages/sklearn/linear_model/_logistic.py:763: ConvergenceWarning: lbfgs failed to converge (status=1):\n",
      "STOP: TOTAL NO. of ITERATIONS REACHED LIMIT.\n",
      "\n",
      "Increase the number of iterations (max_iter) or scale the data as shown in:\n",
      "    https://scikit-learn.org/stable/modules/preprocessing.html\n",
      "Please also refer to the documentation for alternative solver options:\n",
      "    https://scikit-learn.org/stable/modules/linear_model.html#logistic-regression\n",
      "  n_iter_i = _check_optimize_result(\n",
      "/Applications/anaconda3/lib/python3.8/site-packages/sklearn/linear_model/_logistic.py:763: ConvergenceWarning: lbfgs failed to converge (status=1):\n",
      "STOP: TOTAL NO. of ITERATIONS REACHED LIMIT.\n",
      "\n",
      "Increase the number of iterations (max_iter) or scale the data as shown in:\n",
      "    https://scikit-learn.org/stable/modules/preprocessing.html\n",
      "Please also refer to the documentation for alternative solver options:\n",
      "    https://scikit-learn.org/stable/modules/linear_model.html#logistic-regression\n",
      "  n_iter_i = _check_optimize_result(\n",
      "/Applications/anaconda3/lib/python3.8/site-packages/sklearn/linear_model/_logistic.py:763: ConvergenceWarning: lbfgs failed to converge (status=1):\n",
      "STOP: TOTAL NO. of ITERATIONS REACHED LIMIT.\n",
      "\n",
      "Increase the number of iterations (max_iter) or scale the data as shown in:\n",
      "    https://scikit-learn.org/stable/modules/preprocessing.html\n",
      "Please also refer to the documentation for alternative solver options:\n",
      "    https://scikit-learn.org/stable/modules/linear_model.html#logistic-regression\n",
      "  n_iter_i = _check_optimize_result(\n",
      "/Applications/anaconda3/lib/python3.8/site-packages/sklearn/linear_model/_logistic.py:763: ConvergenceWarning: lbfgs failed to converge (status=1):\n",
      "STOP: TOTAL NO. of ITERATIONS REACHED LIMIT.\n",
      "\n",
      "Increase the number of iterations (max_iter) or scale the data as shown in:\n",
      "    https://scikit-learn.org/stable/modules/preprocessing.html\n",
      "Please also refer to the documentation for alternative solver options:\n",
      "    https://scikit-learn.org/stable/modules/linear_model.html#logistic-regression\n",
      "  n_iter_i = _check_optimize_result(\n"
     ]
    },
    {
     "name": "stdout",
     "output_type": "stream",
     "text": [
      "Fitness Scores: [0.38289963 0.46034696 0.22924411 0.38166047]\n",
      "Overall best fitness: 0.4603470, Overall best individual: [1 0 1 0 1 1 1 0 1 0 0 1 1 0 1 1 1 1 1 0 1 0 1 0 1 1 0 1 1 0 0 0 0 0 0 1 1\n",
      " 0 0 0 1 1 0 0 0]\n",
      "LOOP STEP: Generation 3\n"
     ]
    },
    {
     "name": "stderr",
     "output_type": "stream",
     "text": [
      "/Applications/anaconda3/lib/python3.8/site-packages/sklearn/linear_model/_logistic.py:763: ConvergenceWarning: lbfgs failed to converge (status=1):\n",
      "STOP: TOTAL NO. of ITERATIONS REACHED LIMIT.\n",
      "\n",
      "Increase the number of iterations (max_iter) or scale the data as shown in:\n",
      "    https://scikit-learn.org/stable/modules/preprocessing.html\n",
      "Please also refer to the documentation for alternative solver options:\n",
      "    https://scikit-learn.org/stable/modules/linear_model.html#logistic-regression\n",
      "  n_iter_i = _check_optimize_result(\n",
      "/Applications/anaconda3/lib/python3.8/site-packages/sklearn/linear_model/_logistic.py:763: ConvergenceWarning: lbfgs failed to converge (status=1):\n",
      "STOP: TOTAL NO. of ITERATIONS REACHED LIMIT.\n",
      "\n",
      "Increase the number of iterations (max_iter) or scale the data as shown in:\n",
      "    https://scikit-learn.org/stable/modules/preprocessing.html\n",
      "Please also refer to the documentation for alternative solver options:\n",
      "    https://scikit-learn.org/stable/modules/linear_model.html#logistic-regression\n",
      "  n_iter_i = _check_optimize_result(\n",
      "/Applications/anaconda3/lib/python3.8/site-packages/sklearn/linear_model/_logistic.py:763: ConvergenceWarning: lbfgs failed to converge (status=1):\n",
      "STOP: TOTAL NO. of ITERATIONS REACHED LIMIT.\n",
      "\n",
      "Increase the number of iterations (max_iter) or scale the data as shown in:\n",
      "    https://scikit-learn.org/stable/modules/preprocessing.html\n",
      "Please also refer to the documentation for alternative solver options:\n",
      "    https://scikit-learn.org/stable/modules/linear_model.html#logistic-regression\n",
      "  n_iter_i = _check_optimize_result(\n"
     ]
    },
    {
     "name": "stdout",
     "output_type": "stream",
     "text": [
      "Fitness Scores: [0.38289963 0.46034696 0.40334572 0.46034696]\n",
      "Overall best fitness: 0.4603470, Overall best individual: [1 0 1 0 1 1 1 0 1 0 0 1 1 0 1 1 1 1 1 0 1 0 1 0 1 1 0 1 1 0 0 0 0 0 0 1 1\n",
      " 0 0 0 1 1 0 0 0]\n",
      "Termination Reason: None\n",
      "Best Fitness: 0.4603469640644362\n",
      "Best Individual: [1 0 1 0 1 1 1 0 1 0 0 1 1 0 1 1 1 1 1 0 1 0 1 0 1 1 0 1 1 0 0 0 0 0 0 1 1\n",
      " 0 0 0 1 1 0 0 0]\n"
     ]
    },
    {
     "name": "stderr",
     "output_type": "stream",
     "text": [
      "/Applications/anaconda3/lib/python3.8/site-packages/sklearn/linear_model/_logistic.py:763: ConvergenceWarning: lbfgs failed to converge (status=1):\n",
      "STOP: TOTAL NO. of ITERATIONS REACHED LIMIT.\n",
      "\n",
      "Increase the number of iterations (max_iter) or scale the data as shown in:\n",
      "    https://scikit-learn.org/stable/modules/preprocessing.html\n",
      "Please also refer to the documentation for alternative solver options:\n",
      "    https://scikit-learn.org/stable/modules/linear_model.html#logistic-regression\n",
      "  n_iter_i = _check_optimize_result(\n"
     ]
    }
   ],
   "source": [
    "# Call the GA function\n",
    "global_best_fitness, global_best_position = ga_feature_reduction(\n",
    "    X_train_sample = X_train_sample,\n",
    "    y_train_sample = y_train_sample_19,\n",
    "    X_test_sample = X_test_sample,\n",
    "    y_test_sample = y_test_sample_19,\n",
    "    population_size = population_size,\n",
    "    n_generations = n_generations,\n",
    "    mutation_rate = mutation_rate,\n",
    "    num_elites = num_elites,\n",
    "    CLASSIFIER = \"lr\",\n",
    "    metric = metric\n",
    ")"
   ]
  },
  {
   "cell_type": "code",
   "execution_count": 37,
   "metadata": {},
   "outputs": [],
   "source": [
    "# use the best features identified by GA\n",
    "selected_features = np.array(global_best_position, dtype=bool)\n",
    "# Apply the selected features to your datasets\n",
    "X_train_selected = X_train_sample[:, selected_features]\n",
    "X_test_selected = X_test_sample[:, selected_features]\n",
    "\n",
    "lr_benchmark.fit(X_train_selected, y_train_sample_19) \n",
    "y_pred_lr_ga_19 = lr_benchmark.predict(X_test_selected)  "
   ]
  },
  {
   "cell_type": "code",
   "execution_count": 38,
   "metadata": {},
   "outputs": [
    {
     "name": "stderr",
     "output_type": "stream",
     "text": [
      "/Applications/anaconda3/lib/python3.8/site-packages/sklearn/metrics/_classification.py:1245: UndefinedMetricWarning: Precision and F-score are ill-defined and being set to 0.0 in labels with no predicted samples. Use `zero_division` parameter to control this behavior.\n",
      "  _warn_prf(average, modifier, msg_start, len(result))\n",
      "/Applications/anaconda3/lib/python3.8/site-packages/sklearn/metrics/_classification.py:1245: UndefinedMetricWarning: Precision and F-score are ill-defined and being set to 0.0 in labels with no predicted samples. Use `zero_division` parameter to control this behavior.\n",
      "  _warn_prf(average, modifier, msg_start, len(result))\n",
      "/Applications/anaconda3/lib/python3.8/site-packages/sklearn/metrics/_classification.py:1245: UndefinedMetricWarning: Precision and F-score are ill-defined and being set to 0.0 in labels with no predicted samples. Use `zero_division` parameter to control this behavior.\n",
      "  _warn_prf(average, modifier, msg_start, len(result))\n",
      "/Applications/anaconda3/lib/python3.8/site-packages/sklearn/metrics/_classification.py:1245: UndefinedMetricWarning: Precision and F-score are ill-defined and being set to 0.0 in labels with no predicted samples. Use `zero_division` parameter to control this behavior.\n",
      "  _warn_prf(average, modifier, msg_start, len(result))\n",
      "/Applications/anaconda3/lib/python3.8/site-packages/sklearn/metrics/_classification.py:1245: UndefinedMetricWarning: Precision and F-score are ill-defined and being set to 0.0 in labels with no predicted samples. Use `zero_division` parameter to control this behavior.\n",
      "  _warn_prf(average, modifier, msg_start, len(result))\n",
      "/Applications/anaconda3/lib/python3.8/site-packages/sklearn/metrics/_classification.py:1245: UndefinedMetricWarning: Precision and F-score are ill-defined and being set to 0.0 in labels with no predicted samples. Use `zero_division` parameter to control this behavior.\n",
      "  _warn_prf(average, modifier, msg_start, len(result))\n",
      "/Applications/anaconda3/lib/python3.8/site-packages/sklearn/metrics/_classification.py:1245: UndefinedMetricWarning: Precision is ill-defined and being set to 0.0 in labels with no predicted samples. Use `zero_division` parameter to control this behavior.\n",
      "  _warn_prf(average, modifier, msg_start, len(result))\n"
     ]
    },
    {
     "name": "stdout",
     "output_type": "stream",
     "text": [
      "                    precision    recall  f1-score   support\n",
      "\n",
      "      ARP_spoofing       0.00      0.00      0.00         1\n",
      "            Benign       0.58      1.00      0.74        35\n",
      "         DDoS_ICMP       0.65      0.97      0.78       352\n",
      "          DDoS_SYN       0.00      0.00      0.00       177\n",
      "          DDoS_TCP       0.00      0.00      0.00       157\n",
      "          DDoS_UDP       0.37      0.99      0.54       367\n",
      "DDoS_connect_flood       0.00      0.00      0.00        41\n",
      "DDoS_publish_flood       0.00      0.00      0.00         9\n",
      "          DoS_ICMP       0.00      0.00      0.00       120\n",
      "           DoS_SYN       0.03      0.01      0.02        97\n",
      "           DoS_TCP       0.00      0.00      0.00        78\n",
      "           DoS_UDP       0.00      0.00      0.00       143\n",
      " DoS_connect_flood       0.00      0.00      0.00         1\n",
      " DoS_publish_flood       0.00      0.00      0.00        11\n",
      "           OS_scan       0.00      0.00      0.00         3\n",
      "         Port_scan       0.00      0.00      0.00        21\n",
      "        ping_sweep       0.00      0.00      0.00         1\n",
      "\n",
      "          accuracy                           0.46      1614\n",
      "         macro avg       0.10      0.18      0.12      1614\n",
      "      weighted avg       0.24      0.46      0.31      1614\n",
      "\n",
      "Number of selected features: 23\n",
      "Accuracy: 0.46035\n"
     ]
    }
   ],
   "source": [
    "# print the classification report\n",
    "report_lr_ga_19 = classification_report(y_test_sample_19, y_pred_lr_ga_19, output_dict=True)\n",
    "print(classification_report(y_test_sample_19, y_pred_lr_ga_19))\n",
    "\n",
    "print(f\"Number of selected features: {X_train_selected.shape[1]}\")\n",
    "\n",
    "# calculate accuracy\n",
    "accuracy_lr_ga_19 = accuracy_score(y_test_sample_19, y_pred_lr_ga_19)\n",
    "recall_lr_ga_19 = recall_score(y_test_sample_19, y_pred_lr_ga_19, average=\"weighted\")\n",
    "precision_lr_ga_19 = precision_score(y_test_sample_19, y_pred_lr_ga_19, average=\"weighted\")\n",
    "f1_lr_ga_19 = f1_score(y_test_sample_19, y_pred_lr_ga_19, average=\"weighted\")\n",
    "\n",
    "# print accuracy with 5 decimal places\n",
    "print(f\"Accuracy: {accuracy_lr_ga_19:.5f}\")"
   ]
  },
  {
   "cell_type": "code",
   "execution_count": 39,
   "metadata": {},
   "outputs": [
    {
     "data": {
      "image/png": "[encoded data removed]",
      "text/plain": [
       "<Figure size 1080x864 with 2 Axes>"
      ]
     },
     "metadata": {
      "needs_background": "light"
     },
     "output_type": "display_data"
    }
   ],
   "source": [
    "# generate the confusion matrix\n",
    "cm_lr_ga_19 = confusion_matrix(y_test_sample_19, y_pred_lr_ga_19)\n",
    "\n",
    "# visualize the confusion matrix using seaborn\n",
    "plt.figure(figsize=(15, 12))\n",
    "sns.heatmap(cm_lr_ga_19, annot=True, fmt='d', cmap='Blues', xticklabels=lr_benchmark.classes_, yticklabels=lr_benchmark.classes_)\n",
    "plt.xlabel('Predicted Labels')\n",
    "plt.ylabel('True Labels')\n",
    "plt.title('Confusion Matrix')\n",
    "plt.show()"
   ]
  },
  {
   "cell_type": "markdown",
   "metadata": {},
   "source": [
    "### AdaBoost"
   ]
  },
  {
   "cell_type": "markdown",
   "metadata": {},
   "source": [
    "#### Binary Classification"
   ]
  },
  {
   "cell_type": "code",
   "execution_count": 40,
   "metadata": {},
   "outputs": [
    {
     "name": "stdout",
     "output_type": "stream",
     "text": [
      "LOOP STEP: Generation 1\n",
      "Fitness Scores: [0.99814126 0.99566295 0.99566295 0.99814126]\n",
      "Overall best fitness: 0.9981413, Overall best individual: [0 1 0 1 1 1 1 1 1 1 0 0 0 1 0 1 0 1 0 1 0 0 1 0 0 0 0 1 1 0 0 0 1 1 0 1 1\n",
      " 1 1 0 0 1 1 0 0]\n",
      "LOOP STEP: Generation 2\n",
      "Fitness Scores: [0.99814126 0.99814126 0.99380421 0.99690211]\n",
      "Overall best fitness: 0.9981413, Overall best individual: [0 1 0 1 1 1 1 1 1 1 0 0 0 1 0 1 0 1 0 1 0 0 1 0 0 0 0 1 1 0 0 0 1 1 0 1 1\n",
      " 1 1 0 0 1 1 0 0]\n",
      "LOOP STEP: Generation 3\n",
      "Fitness Scores: [0.99814126 0.99814126 0.99876084 0.99442379]\n",
      "Overall best fitness: 0.9987608, Overall best individual: [0 1 0 1 0 1 0 1 1 1 0 0 1 1 0 0 0 0 0 1 0 0 1 1 0 0 0 0 1 0 1 1 1 1 0 1 1\n",
      " 0 1 0 0 1 0 1 1]\n",
      "Termination Reason: None\n",
      "Best Fitness: 0.9987608426270136\n",
      "Best Individual: [0 1 0 1 0 1 0 1 1 1 0 0 1 1 0 0 0 0 0 1 0 0 1 1 0 0 0 0 1 0 1 1 1 1 0 1 1\n",
      " 0 1 0 0 1 0 1 1]\n"
     ]
    }
   ],
   "source": [
    "# Call the GA function\n",
    "global_best_fitness, global_best_position = ga_feature_reduction(\n",
    "    X_train_sample = X_train_sample,\n",
    "    y_train_sample = y_train_sample_2,\n",
    "    X_test_sample = X_test_sample,\n",
    "    y_test_sample = y_test_sample_2,\n",
    "    population_size = population_size,\n",
    "    n_generations = n_generations,\n",
    "    mutation_rate = mutation_rate,\n",
    "    num_elites = num_elites,\n",
    "    CLASSIFIER = \"ada\",\n",
    "    metric = metric\n",
    ")"
   ]
  },
  {
   "cell_type": "code",
   "execution_count": 41,
   "metadata": {},
   "outputs": [],
   "source": [
    "# use the best features identified by GA\n",
    "selected_features = np.array(global_best_position, dtype=bool)\n",
    "# Apply the selected features to your datasets\n",
    "X_train_selected = X_train_sample[:, selected_features]\n",
    "X_test_selected = X_test_sample[:, selected_features]\n",
    "\n",
    "ada_benchmark.fit(X_train_selected, y_train_sample_2) \n",
    "y_pred_ada_ga_2 = ada_benchmark.predict(X_test_selected)  "
   ]
  },
  {
   "cell_type": "code",
   "execution_count": 42,
   "metadata": {},
   "outputs": [
    {
     "name": "stdout",
     "output_type": "stream",
     "text": [
      "              precision    recall  f1-score   support\n",
      "\n",
      "      Attack       1.00      1.00      1.00      1579\n",
      "      Benign       0.97      0.97      0.97        35\n",
      "\n",
      "    accuracy                           1.00      1614\n",
      "   macro avg       0.99      0.99      0.99      1614\n",
      "weighted avg       1.00      1.00      1.00      1614\n",
      "\n",
      "Number of selected features: 22\n",
      "Accuracy: 0.99876\n"
     ]
    }
   ],
   "source": [
    "# print the classification report\n",
    "report_ada_ga_2 = classification_report(y_test_sample_2, y_pred_ada_ga_2, output_dict=True)\n",
    "print(classification_report(y_test_sample_2, y_pred_ada_ga_2))\n",
    "\n",
    "print(f\"Number of selected features: {X_train_selected.shape[1]}\")\n",
    "\n",
    "# calculate accuracy\n",
    "accuracy_ada_ga_2 = accuracy_score(y_test_sample_2, y_pred_ada_ga_2)\n",
    "recall_ada_ga_2 = recall_score(y_test_sample_2, y_pred_ada_ga_2, average=\"weighted\")\n",
    "precision_ada_ga_2 = precision_score(y_test_sample_2, y_pred_ada_ga_2, average=\"weighted\")\n",
    "f1_ada_ga_2 = f1_score(y_test_sample_2, y_pred_ada_ga_2, average=\"weighted\")\n",
    "\n",
    "# print accuracy with 5 decimal places\n",
    "print(f\"Accuracy: {accuracy_ada_ga_2:.5f}\")"
   ]
  },
  {
   "cell_type": "code",
   "execution_count": 43,
   "metadata": {},
   "outputs": [
    {
     "data": {
      "image/png": "[encoded data removed]",
      "text/plain": [
       "<Figure size 1080x864 with 2 Axes>"
      ]
     },
     "metadata": {
      "needs_background": "light"
     },
     "output_type": "display_data"
    }
   ],
   "source": [
    "# generate the confusion matrix\n",
    "cm_ada_ga_2 = confusion_matrix(y_test_sample_2, y_pred_ada_ga_2)\n",
    "\n",
    "# visualize the confusion matrix using seaborn\n",
    "plt.figure(figsize=(15, 12))\n",
    "sns.heatmap(cm_ada_ga_2, annot=True, fmt='d', cmap='Blues', xticklabels=ada_benchmark.classes_, yticklabels=ada_benchmark.classes_)\n",
    "plt.xlabel('Predicted Labels')\n",
    "plt.ylabel('True Labels')\n",
    "plt.title('Confusion Matrix')\n",
    "plt.show()"
   ]
  },
  {
   "cell_type": "markdown",
   "metadata": {},
   "source": [
    "#### 6 Class Classification"
   ]
  },
  {
   "cell_type": "code",
   "execution_count": 44,
   "metadata": {},
   "outputs": [
    {
     "name": "stdout",
     "output_type": "stream",
     "text": [
      "LOOP STEP: Generation 1\n",
      "Fitness Scores: [0.99566295 0.74907063 0.77571252 0.77137546]\n",
      "Overall best fitness: 0.9956629, Overall best individual: [0 0 0 0 1 1 1 1 1 1 1 0 0 0 0 1 0 0 0 1 0 0 0 0 1 0 0 1 0 0 0 0 0 0 0 1 0\n",
      " 1 1 0 0 1 1 1 1]\n",
      "LOOP STEP: Generation 2\n",
      "Fitness Scores: [0.77571252 0.99566295 0.76208178 0.99690211]\n",
      "Overall best fitness: 0.9969021, Overall best individual: [0 1 0 0 0 1 0 0 0 0 0 0 0 1 1 1 1 0 0 0 1 0 0 0 1 1 1 1 0 0 1 1 1 0 1 0 1\n",
      " 1 1 1 1 0 0 1 0]\n",
      "LOOP STEP: Generation 3\n",
      "Fitness Scores: [0.99566295 0.99690211 0.99690211 0.7732342 ]\n",
      "Overall best fitness: 0.9969021, Overall best individual: [0 1 0 0 0 1 0 0 0 0 0 0 0 1 1 1 1 0 0 0 1 0 0 0 1 1 1 1 0 0 1 1 1 0 1 0 1\n",
      " 1 1 1 1 0 0 1 0]\n",
      "Termination Reason: None\n",
      "Best Fitness: 0.9969021065675341\n",
      "Best Individual: [0 1 0 0 0 1 0 0 0 0 0 0 0 1 1 1 1 0 0 0 1 0 0 0 1 1 1 1 0 0 1 1 1 0 1 0 1\n",
      " 1 1 1 1 0 0 1 0]\n"
     ]
    }
   ],
   "source": [
    "# Call the GA function\n",
    "global_best_fitness, global_best_position = ga_feature_reduction(\n",
    "    X_train_sample = X_train_sample,\n",
    "    y_train_sample = y_train_sample_6,\n",
    "    X_test_sample = X_test_sample,\n",
    "    y_test_sample = y_test_sample_6,\n",
    "    population_size = population_size,\n",
    "    n_generations = n_generations,\n",
    "    mutation_rate = mutation_rate,\n",
    "    num_elites = num_elites,\n",
    "    CLASSIFIER = \"ada\",\n",
    "    metric = metric\n",
    ")"
   ]
  },
  {
   "cell_type": "code",
   "execution_count": 45,
   "metadata": {},
   "outputs": [],
   "source": [
    "# use the best features identified by GA\n",
    "selected_features = np.array(global_best_position, dtype=bool)\n",
    "# Apply the selected features to your datasets\n",
    "X_train_selected = X_train_sample[:, selected_features]\n",
    "X_test_selected = X_test_sample[:, selected_features]\n",
    "\n",
    "ada_benchmark.fit(X_train_selected, y_train_sample_6) \n",
    "y_pred_ada_ga_6 = ada_benchmark.predict(X_test_selected)  "
   ]
  },
  {
   "cell_type": "code",
   "execution_count": 46,
   "metadata": {},
   "outputs": [
    {
     "name": "stdout",
     "output_type": "stream",
     "text": [
      "              precision    recall  f1-score   support\n",
      "\n",
      "      Benign       1.00      0.91      0.96        35\n",
      "        DDos       1.00      1.00      1.00      1053\n",
      "         Dos       1.00      1.00      1.00       438\n",
      "        MQTT       0.98      1.00      0.99        62\n",
      "       Recon       0.86      1.00      0.93        25\n",
      "    Spoofing       0.00      0.00      0.00         1\n",
      "\n",
      "    accuracy                           1.00      1614\n",
      "   macro avg       0.81      0.82      0.81      1614\n",
      "weighted avg       1.00      1.00      1.00      1614\n",
      "\n",
      "Number of selected features: 21\n",
      "Accuracy: 0.99690\n"
     ]
    },
    {
     "name": "stderr",
     "output_type": "stream",
     "text": [
      "/Applications/anaconda3/lib/python3.8/site-packages/sklearn/metrics/_classification.py:1245: UndefinedMetricWarning: Precision and F-score are ill-defined and being set to 0.0 in labels with no predicted samples. Use `zero_division` parameter to control this behavior.\n",
      "  _warn_prf(average, modifier, msg_start, len(result))\n",
      "/Applications/anaconda3/lib/python3.8/site-packages/sklearn/metrics/_classification.py:1245: UndefinedMetricWarning: Precision and F-score are ill-defined and being set to 0.0 in labels with no predicted samples. Use `zero_division` parameter to control this behavior.\n",
      "  _warn_prf(average, modifier, msg_start, len(result))\n",
      "/Applications/anaconda3/lib/python3.8/site-packages/sklearn/metrics/_classification.py:1245: UndefinedMetricWarning: Precision and F-score are ill-defined and being set to 0.0 in labels with no predicted samples. Use `zero_division` parameter to control this behavior.\n",
      "  _warn_prf(average, modifier, msg_start, len(result))\n",
      "/Applications/anaconda3/lib/python3.8/site-packages/sklearn/metrics/_classification.py:1245: UndefinedMetricWarning: Precision and F-score are ill-defined and being set to 0.0 in labels with no predicted samples. Use `zero_division` parameter to control this behavior.\n",
      "  _warn_prf(average, modifier, msg_start, len(result))\n",
      "/Applications/anaconda3/lib/python3.8/site-packages/sklearn/metrics/_classification.py:1245: UndefinedMetricWarning: Precision and F-score are ill-defined and being set to 0.0 in labels with no predicted samples. Use `zero_division` parameter to control this behavior.\n",
      "  _warn_prf(average, modifier, msg_start, len(result))\n",
      "/Applications/anaconda3/lib/python3.8/site-packages/sklearn/metrics/_classification.py:1245: UndefinedMetricWarning: Precision and F-score are ill-defined and being set to 0.0 in labels with no predicted samples. Use `zero_division` parameter to control this behavior.\n",
      "  _warn_prf(average, modifier, msg_start, len(result))\n",
      "/Applications/anaconda3/lib/python3.8/site-packages/sklearn/metrics/_classification.py:1245: UndefinedMetricWarning: Precision is ill-defined and being set to 0.0 in labels with no predicted samples. Use `zero_division` parameter to control this behavior.\n",
      "  _warn_prf(average, modifier, msg_start, len(result))\n"
     ]
    }
   ],
   "source": [
    "# print the classification report\n",
    "report_ada_ga_6 = classification_report(y_test_sample_6, y_pred_ada_ga_6, output_dict=True)\n",
    "print(classification_report(y_test_sample_6, y_pred_ada_ga_6))\n",
    "\n",
    "print(f\"Number of selected features: {X_train_selected.shape[1]}\")\n",
    "\n",
    "# calculate accuracy\n",
    "accuracy_ada_ga_6 = accuracy_score(y_test_sample_6, y_pred_ada_ga_6)\n",
    "recall_ada_ga_6 = recall_score(y_test_sample_6, y_pred_ada_ga_6, average=\"weighted\")\n",
    "precision_ada_ga_6 = precision_score(y_test_sample_6, y_pred_ada_ga_6, average=\"weighted\")\n",
    "f1_ada_ga_6 = f1_score(y_test_sample_6, y_pred_ada_ga_6, average=\"weighted\")\n",
    "\n",
    "# print accuracy with 5 decimal places\n",
    "print(f\"Accuracy: {accuracy_ada_ga_6:.5f}\")"
   ]
  },
  {
   "cell_type": "code",
   "execution_count": 47,
   "metadata": {},
   "outputs": [
    {
     "data": {
      "image/png": "[encoded data removed]",
      "text/plain": [
       "<Figure size 1080x864 with 2 Axes>"
      ]
     },
     "metadata": {
      "needs_background": "light"
     },
     "output_type": "display_data"
    }
   ],
   "source": [
    "# generate the confusion matrix\n",
    "cm_ada_ga_6 = confusion_matrix(y_test_sample_6, y_pred_ada_ga_6)\n",
    "\n",
    "# visualize the confusion matrix using seaborn\n",
    "plt.figure(figsize=(15, 12))\n",
    "sns.heatmap(cm_ada_ga_6, annot=True, fmt='d', cmap='Blues', xticklabels=ada_benchmark.classes_, yticklabels=ada_benchmark.classes_)\n",
    "plt.xlabel('Predicted Labels')\n",
    "plt.ylabel('True Labels')\n",
    "plt.title('Confusion Matrix')\n",
    "plt.show()"
   ]
  },
  {
   "cell_type": "markdown",
   "metadata": {},
   "source": [
    "#### 19 Class Classification"
   ]
  },
  {
   "cell_type": "code",
   "execution_count": 48,
   "metadata": {},
   "outputs": [
    {
     "name": "stdout",
     "output_type": "stream",
     "text": [
      "LOOP STEP: Generation 1\n",
      "Fitness Scores: [0.69640644 0.98513011 0.90644362 0.91140025]\n",
      "Overall best fitness: 0.9851301, Overall best individual: [1 1 1 0 0 1 0 1 0 1 0 1 1 1 0 1 1 0 0 1 1 0 1 1 1 1 1 0 1 0 0 1 0 0 0 1 1\n",
      " 0 1 0 0 1 1 0 0]\n",
      "LOOP STEP: Generation 2\n",
      "Fitness Scores: [0.91140025 0.98513011 0.988228   0.91201983]\n",
      "Overall best fitness: 0.9882280, Overall best individual: [0 1 1 0 0 1 0 1 0 1 0 1 1 0 0 1 1 0 0 1 1 0 1 1 1 0 1 0 1 0 0 1 1 1 0 1 1\n",
      " 0 1 0 0 1 0 0 0]\n",
      "LOOP STEP: Generation 3\n",
      "Fitness Scores: [0.98513011 0.988228   0.91263941 0.63011152]\n",
      "Overall best fitness: 0.9882280, Overall best individual: [0 1 1 0 0 1 0 1 0 1 0 1 1 0 0 1 1 0 0 1 1 0 1 1 1 0 1 0 1 0 0 1 1 1 0 1 1\n",
      " 0 1 0 0 1 0 0 0]\n",
      "Termination Reason: None\n",
      "Best Fitness: 0.9882280049566295\n",
      "Best Individual: [0 1 1 0 0 1 0 1 0 1 0 1 1 0 0 1 1 0 0 1 1 0 1 1 1 0 1 0 1 0 0 1 1 1 0 1 1\n",
      " 0 1 0 0 1 0 0 0]\n"
     ]
    }
   ],
   "source": [
    "# Call the GA function\n",
    "global_best_fitness, global_best_position = ga_feature_reduction(\n",
    "    X_train_sample = X_train_sample,\n",
    "    y_train_sample = y_train_sample_19,\n",
    "    X_test_sample = X_test_sample,\n",
    "    y_test_sample = y_test_sample_19,\n",
    "    population_size = population_size,\n",
    "    n_generations = n_generations,\n",
    "    mutation_rate = mutation_rate,\n",
    "    num_elites = num_elites,\n",
    "    CLASSIFIER = \"ada\",\n",
    "    metric = metric\n",
    ")"
   ]
  },
  {
   "cell_type": "code",
   "execution_count": 49,
   "metadata": {},
   "outputs": [],
   "source": [
    "# use the best features identified by GA\n",
    "selected_features = np.array(global_best_position, dtype=bool)\n",
    "# Apply the selected features to your datasets\n",
    "X_train_selected = X_train_sample[:, selected_features]\n",
    "X_test_selected = X_test_sample[:, selected_features]\n",
    "\n",
    "ada_benchmark.fit(X_train_selected, y_train_sample_19) \n",
    "y_pred_ada_ga_19 = ada_benchmark.predict(X_test_selected)"
   ]
  },
  {
   "cell_type": "code",
   "execution_count": 50,
   "metadata": {},
   "outputs": [
    {
     "name": "stdout",
     "output_type": "stream",
     "text": [
      "                    precision    recall  f1-score   support\n",
      "\n",
      "      ARP_spoofing       0.00      0.00      0.00         1\n",
      "            Benign       0.97      0.97      0.97        35\n",
      "         DDoS_ICMP       1.00      1.00      1.00       352\n",
      "          DDoS_SYN       1.00      1.00      1.00       177\n",
      "          DDoS_TCP       1.00      1.00      1.00       157\n",
      "          DDoS_UDP       1.00      1.00      1.00       367\n",
      "DDoS_connect_flood       1.00      1.00      1.00        41\n",
      "DDoS_publish_flood       1.00      0.11      0.20         9\n",
      "          DoS_ICMP       1.00      1.00      1.00       120\n",
      "           DoS_SYN       1.00      0.99      0.99        97\n",
      "           DoS_TCP       1.00      0.99      0.99        78\n",
      "           DoS_UDP       1.00      1.00      1.00       143\n",
      " DoS_connect_flood       1.00      1.00      1.00         1\n",
      " DoS_publish_flood       0.58      1.00      0.73        11\n",
      "           OS_scan       0.33      0.33      0.33         3\n",
      "         Port_scan       0.77      0.81      0.79        21\n",
      "           VulScan       0.00      0.00      0.00         0\n",
      "        ping_sweep       0.00      0.00      0.00         1\n",
      "\n",
      "          accuracy                           0.99      1614\n",
      "         macro avg       0.76      0.73      0.72      1614\n",
      "      weighted avg       0.99      0.99      0.99      1614\n",
      "\n",
      "Number of selected features: 23\n",
      "Accuracy: 0.98823\n"
     ]
    },
    {
     "name": "stderr",
     "output_type": "stream",
     "text": [
      "/Applications/anaconda3/lib/python3.8/site-packages/sklearn/metrics/_classification.py:1245: UndefinedMetricWarning: Precision and F-score are ill-defined and being set to 0.0 in labels with no predicted samples. Use `zero_division` parameter to control this behavior.\n",
      "  _warn_prf(average, modifier, msg_start, len(result))\n",
      "/Applications/anaconda3/lib/python3.8/site-packages/sklearn/metrics/_classification.py:1245: UndefinedMetricWarning: Recall and F-score are ill-defined and being set to 0.0 in labels with no true samples. Use `zero_division` parameter to control this behavior.\n",
      "  _warn_prf(average, modifier, msg_start, len(result))\n",
      "/Applications/anaconda3/lib/python3.8/site-packages/sklearn/metrics/_classification.py:1245: UndefinedMetricWarning: Precision and F-score are ill-defined and being set to 0.0 in labels with no predicted samples. Use `zero_division` parameter to control this behavior.\n",
      "  _warn_prf(average, modifier, msg_start, len(result))\n",
      "/Applications/anaconda3/lib/python3.8/site-packages/sklearn/metrics/_classification.py:1245: UndefinedMetricWarning: Recall and F-score are ill-defined and being set to 0.0 in labels with no true samples. Use `zero_division` parameter to control this behavior.\n",
      "  _warn_prf(average, modifier, msg_start, len(result))\n",
      "/Applications/anaconda3/lib/python3.8/site-packages/sklearn/metrics/_classification.py:1245: UndefinedMetricWarning: Precision and F-score are ill-defined and being set to 0.0 in labels with no predicted samples. Use `zero_division` parameter to control this behavior.\n",
      "  _warn_prf(average, modifier, msg_start, len(result))\n",
      "/Applications/anaconda3/lib/python3.8/site-packages/sklearn/metrics/_classification.py:1245: UndefinedMetricWarning: Recall and F-score are ill-defined and being set to 0.0 in labels with no true samples. Use `zero_division` parameter to control this behavior.\n",
      "  _warn_prf(average, modifier, msg_start, len(result))\n",
      "/Applications/anaconda3/lib/python3.8/site-packages/sklearn/metrics/_classification.py:1245: UndefinedMetricWarning: Precision and F-score are ill-defined and being set to 0.0 in labels with no predicted samples. Use `zero_division` parameter to control this behavior.\n",
      "  _warn_prf(average, modifier, msg_start, len(result))\n",
      "/Applications/anaconda3/lib/python3.8/site-packages/sklearn/metrics/_classification.py:1245: UndefinedMetricWarning: Recall and F-score are ill-defined and being set to 0.0 in labels with no true samples. Use `zero_division` parameter to control this behavior.\n",
      "  _warn_prf(average, modifier, msg_start, len(result))\n",
      "/Applications/anaconda3/lib/python3.8/site-packages/sklearn/metrics/_classification.py:1245: UndefinedMetricWarning: Precision and F-score are ill-defined and being set to 0.0 in labels with no predicted samples. Use `zero_division` parameter to control this behavior.\n",
      "  _warn_prf(average, modifier, msg_start, len(result))\n",
      "/Applications/anaconda3/lib/python3.8/site-packages/sklearn/metrics/_classification.py:1245: UndefinedMetricWarning: Recall and F-score are ill-defined and being set to 0.0 in labels with no true samples. Use `zero_division` parameter to control this behavior.\n",
      "  _warn_prf(average, modifier, msg_start, len(result))\n",
      "/Applications/anaconda3/lib/python3.8/site-packages/sklearn/metrics/_classification.py:1245: UndefinedMetricWarning: Precision and F-score are ill-defined and being set to 0.0 in labels with no predicted samples. Use `zero_division` parameter to control this behavior.\n",
      "  _warn_prf(average, modifier, msg_start, len(result))\n",
      "/Applications/anaconda3/lib/python3.8/site-packages/sklearn/metrics/_classification.py:1245: UndefinedMetricWarning: Recall and F-score are ill-defined and being set to 0.0 in labels with no true samples. Use `zero_division` parameter to control this behavior.\n",
      "  _warn_prf(average, modifier, msg_start, len(result))\n",
      "/Applications/anaconda3/lib/python3.8/site-packages/sklearn/metrics/_classification.py:1245: UndefinedMetricWarning: Recall is ill-defined and being set to 0.0 in labels with no true samples. Use `zero_division` parameter to control this behavior.\n",
      "  _warn_prf(average, modifier, msg_start, len(result))\n",
      "/Applications/anaconda3/lib/python3.8/site-packages/sklearn/metrics/_classification.py:1245: UndefinedMetricWarning: Precision is ill-defined and being set to 0.0 in labels with no predicted samples. Use `zero_division` parameter to control this behavior.\n",
      "  _warn_prf(average, modifier, msg_start, len(result))\n"
     ]
    }
   ],
   "source": [
    "# print the classification report\n",
    "report_ada_ga_19 = classification_report(y_test_sample_19, y_pred_ada_ga_19, output_dict=True)\n",
    "print(classification_report(y_test_sample_19, y_pred_ada_ga_19))\n",
    "\n",
    "print(f\"Number of selected features: {X_train_selected.shape[1]}\")\n",
    "\n",
    "# calculate accuracy\n",
    "accuracy_ada_ga_19 = accuracy_score(y_test_sample_19, y_pred_ada_ga_19)\n",
    "recall_ada_ga_19 = recall_score(y_test_sample_19, y_pred_ada_ga_19, average=\"weighted\")\n",
    "precision_ada_ga_19 = precision_score(y_test_sample_19, y_pred_ada_ga_19, average=\"weighted\")\n",
    "f1_ada_ga_19 = f1_score(y_test_sample_19, y_pred_ada_ga_19, average=\"weighted\")\n",
    "\n",
    "# print accuracy with 5 decimal places\n",
    "print(f\"Accuracy: {accuracy_ada_ga_19:.5f}\")"
   ]
  },
  {
   "cell_type": "code",
   "execution_count": 51,
   "metadata": {},
   "outputs": [
    {
     "data": {
      "image/png": "[encoded data removed]",
      "text/plain": [
       "<Figure size 1080x864 with 2 Axes>"
      ]
     },
     "metadata": {
      "needs_background": "light"
     },
     "output_type": "display_data"
    }
   ],
   "source": [
    "# generate the confusion matrix\n",
    "cm_ada_ga_19 = confusion_matrix(y_test_sample_19, y_pred_ada_ga_19)\n",
    "\n",
    "# visualize the confusion matrix using seaborn\n",
    "plt.figure(figsize=(15, 12))\n",
    "sns.heatmap(cm_ada_ga_19, annot=True, fmt='d', cmap='Blues', xticklabels=ada_benchmark.classes_, yticklabels=ada_benchmark.classes_)\n",
    "plt.xlabel('Predicted Labels')\n",
    "plt.ylabel('True Labels')\n",
    "plt.title('Confusion Matrix')\n",
    "plt.show()"
   ]
  },
  {
   "cell_type": "markdown",
   "metadata": {},
   "source": [
    "### Random Forest"
   ]
  },
  {
   "cell_type": "markdown",
   "metadata": {},
   "source": [
    "#### Binary Classification"
   ]
  },
  {
   "cell_type": "code",
   "execution_count": 52,
   "metadata": {},
   "outputs": [
    {
     "name": "stdout",
     "output_type": "stream",
     "text": [
      "LOOP STEP: Generation 1\n",
      "Fitness Scores: [0.99628253 0.99752169 0.99752169 0.99566295]\n",
      "Overall best fitness: 0.9975217, Overall best individual: [0 1 0 0 0 1 1 1 1 1 1 0 0 0 1 1 1 0 1 1 0 1 1 1 1 0 1 0 1 0 0 1 0 0 0 0 1\n",
      " 0 1 1 1 1 1 0 0]\n",
      "LOOP STEP: Generation 2\n",
      "Fitness Scores: [0.99752169 0.99752169 0.99566295 0.99690211]\n",
      "Overall best fitness: 0.9975217, Overall best individual: [0 1 0 0 0 1 1 1 1 1 1 0 0 0 1 1 1 0 1 1 0 1 1 1 1 0 1 0 1 0 0 1 0 0 0 0 1\n",
      " 0 1 1 1 1 1 0 0]\n",
      "LOOP STEP: Generation 3\n",
      "Fitness Scores: [0.99752169 0.99752169 0.99566295 0.99690211]\n",
      "Overall best fitness: 0.9975217, Overall best individual: [0 1 0 0 0 1 1 1 1 1 1 0 0 0 1 1 1 0 1 1 0 1 1 1 1 0 1 0 1 0 0 1 0 0 0 0 1\n",
      " 0 1 1 1 1 1 0 0]\n",
      "Termination Reason: None\n",
      "Best Fitness: 0.9975216852540273\n",
      "Best Individual: [0 1 0 0 0 1 1 1 1 1 1 0 0 0 1 1 1 0 1 1 0 1 1 1 1 0 1 0 1 0 0 1 0 0 0 0 1\n",
      " 0 1 1 1 1 1 0 0]\n"
     ]
    }
   ],
   "source": [
    "# Call the GA function\n",
    "global_best_fitness, global_best_position = ga_feature_reduction(\n",
    "    X_train_sample = X_train_sample,\n",
    "    y_train_sample = y_train_sample_2,\n",
    "    X_test_sample = X_test_sample,\n",
    "    y_test_sample = y_test_sample_2,\n",
    "    population_size = population_size,\n",
    "    n_generations = n_generations,\n",
    "    mutation_rate = mutation_rate,\n",
    "    num_elites = num_elites,\n",
    "    CLASSIFIER = \"rf\",\n",
    "    metric = metric\n",
    ")"
   ]
  },
  {
   "cell_type": "code",
   "execution_count": 53,
   "metadata": {},
   "outputs": [],
   "source": [
    "# use the best features identified by GA\n",
    "selected_features = np.array(global_best_position, dtype=bool)\n",
    "# Apply the selected features to your datasets\n",
    "X_train_selected = X_train_sample[:, selected_features]\n",
    "X_test_selected = X_test_sample[:, selected_features]\n",
    "\n",
    "rf_benchmark.fit(X_train_selected, y_train_sample_2) \n",
    "y_pred_rf_ga_2 = rf_benchmark.predict(X_test_selected)"
   ]
  },
  {
   "cell_type": "code",
   "execution_count": 54,
   "metadata": {},
   "outputs": [
    {
     "name": "stdout",
     "output_type": "stream",
     "text": [
      "              precision    recall  f1-score   support\n",
      "\n",
      "      Attack       1.00      1.00      1.00      1579\n",
      "      Benign       1.00      0.91      0.96        35\n",
      "\n",
      "    accuracy                           1.00      1614\n",
      "   macro avg       1.00      0.96      0.98      1614\n",
      "weighted avg       1.00      1.00      1.00      1614\n",
      "\n",
      "Number of selected features: 25\n",
      "Accuracy: 0.99814\n"
     ]
    }
   ],
   "source": [
    "# print the classification report\n",
    "report_rf_ga_2 = classification_report(y_test_sample_2, y_pred_rf_ga_2, output_dict=True)\n",
    "print(classification_report(y_test_sample_2, y_pred_rf_ga_2))\n",
    "\n",
    "print(f\"Number of selected features: {X_train_selected.shape[1]}\")\n",
    "\n",
    "# calculate accuracy\n",
    "accuracy_rf_ga_2 = accuracy_score(y_test_sample_2, y_pred_rf_ga_2)\n",
    "recall_rf_ga_2 = recall_score(y_test_sample_2, y_pred_rf_ga_2, average=\"weighted\")\n",
    "precision_rf_ga_2 = precision_score(y_test_sample_2, y_pred_rf_ga_2, average=\"weighted\")\n",
    "f1_rf_ga_2 = f1_score(y_test_sample_2, y_pred_rf_ga_2, average=\"weighted\")\n",
    "\n",
    "# print accuracy with 5 decimal places\n",
    "print(f\"Accuracy: {accuracy_rf_ga_2:.5f}\")"
   ]
  },
  {
   "cell_type": "code",
   "execution_count": 55,
   "metadata": {},
   "outputs": [
    {
     "data": {
      "image/png": "[encoded data removed]",
      "text/plain": [
       "<Figure size 1080x864 with 2 Axes>"
      ]
     },
     "metadata": {
      "needs_background": "light"
     },
     "output_type": "display_data"
    }
   ],
   "source": [
    "# generate the confusion matrix\n",
    "cm_rf_ga_2 = confusion_matrix(y_test_sample_2, y_pred_rf_ga_2)\n",
    "\n",
    "# visualize the confusion matrix using seaborn\n",
    "plt.figure(figsize=(15, 12))\n",
    "sns.heatmap(cm_rf_ga_2, annot=True, fmt='d', cmap='Blues', xticklabels=rf_benchmark.classes_, yticklabels=rf_benchmark.classes_)\n",
    "plt.xlabel('Predicted Labels')\n",
    "plt.ylabel('True Labels')\n",
    "plt.title('Confusion Matrix')\n",
    "plt.show()"
   ]
  },
  {
   "cell_type": "markdown",
   "metadata": {},
   "source": [
    "#### 6 Class Classification"
   ]
  },
  {
   "cell_type": "code",
   "execution_count": 56,
   "metadata": {},
   "outputs": [
    {
     "name": "stdout",
     "output_type": "stream",
     "text": [
      "LOOP STEP: Generation 1\n",
      "Fitness Scores: [0.75526642 0.99566295 0.99442379 0.99566295]\n",
      "Overall best fitness: 0.9956629, Overall best individual: [0 1 1 1 0 0 0 1 0 0 0 1 0 1 0 1 1 1 0 1 0 1 0 1 1 1 1 1 1 1 1 1 1 0 1 1 0\n",
      " 0 1 0 1 0 0 1 1]\n",
      "LOOP STEP: Generation 2\n",
      "Fitness Scores: [0.99442379 0.99690211 0.99628253 0.70508055]\n",
      "Overall best fitness: 0.9969021, Overall best individual: [0 0 1 0 0 1 1 1 1 0 0 1 0 0 1 0 1 1 1 0 1 0 0 0 1 1 1 1 1 1 0 1 1 0 0 0 1\n",
      " 0 1 0 1 0 0 0 1]\n",
      "LOOP STEP: Generation 3\n",
      "Fitness Scores: [0.99752169 0.99690211 0.99752169 0.73482032]\n",
      "Overall best fitness: 0.9975217, Overall best individual: [1 1 0 0 0 1 1 0 0 0 0 0 1 1 1 0 0 1 0 1 1 1 0 1 0 0 0 0 1 1 0 1 1 0 1 1 0\n",
      " 0 1 0 0 0 0 1 0]\n",
      "Termination Reason: None\n",
      "Best Fitness: 0.9975216852540273\n",
      "Best Individual: [1 1 0 0 0 1 1 0 0 0 0 0 1 1 1 0 0 1 0 1 1 1 0 1 0 0 0 0 1 1 0 1 1 0 1 1 0\n",
      " 0 1 0 0 0 0 1 0]\n"
     ]
    }
   ],
   "source": [
    "# Call the GA function\n",
    "global_best_fitness, global_best_position = ga_feature_reduction(\n",
    "    X_train_sample = X_train_sample,\n",
    "    y_train_sample = y_train_sample_6,\n",
    "    X_test_sample = X_test_sample,\n",
    "    y_test_sample = y_test_sample_6,\n",
    "    population_size = population_size,\n",
    "    n_generations = n_generations,\n",
    "    mutation_rate = mutation_rate,\n",
    "    num_elites = num_elites,\n",
    "    CLASSIFIER = \"rf\",\n",
    "    metric = metric\n",
    ")"
   ]
  },
  {
   "cell_type": "code",
   "execution_count": 57,
   "metadata": {},
   "outputs": [],
   "source": [
    "# use the best features identified by GA\n",
    "selected_features = np.array(global_best_position, dtype=bool)\n",
    "# Apply the selected features to your datasets\n",
    "X_train_selected = X_train_sample[:, selected_features]\n",
    "X_test_selected = X_test_sample[:, selected_features]\n",
    "\n",
    "rf_benchmark.fit(X_train_selected, y_train_sample_6) \n",
    "y_pred_rf_ga_6 = rf_benchmark.predict(X_test_selected)"
   ]
  },
  {
   "cell_type": "code",
   "execution_count": 58,
   "metadata": {},
   "outputs": [
    {
     "name": "stdout",
     "output_type": "stream",
     "text": [
      "              precision    recall  f1-score   support\n",
      "\n",
      "      Benign       0.95      1.00      0.97        35\n",
      "        DDos       1.00      1.00      1.00      1053\n",
      "         Dos       1.00      1.00      1.00       438\n",
      "        MQTT       1.00      1.00      1.00        62\n",
      "       Recon       0.85      0.92      0.88        25\n",
      "    Spoofing       0.00      0.00      0.00         1\n",
      "\n",
      "    accuracy                           1.00      1614\n",
      "   macro avg       0.80      0.82      0.81      1614\n",
      "weighted avg       1.00      1.00      1.00      1614\n",
      "\n",
      "Number of selected features: 20\n",
      "Accuracy: 0.99628\n"
     ]
    },
    {
     "name": "stderr",
     "output_type": "stream",
     "text": [
      "/Applications/anaconda3/lib/python3.8/site-packages/sklearn/metrics/_classification.py:1245: UndefinedMetricWarning: Precision and F-score are ill-defined and being set to 0.0 in labels with no predicted samples. Use `zero_division` parameter to control this behavior.\n",
      "  _warn_prf(average, modifier, msg_start, len(result))\n",
      "/Applications/anaconda3/lib/python3.8/site-packages/sklearn/metrics/_classification.py:1245: UndefinedMetricWarning: Precision and F-score are ill-defined and being set to 0.0 in labels with no predicted samples. Use `zero_division` parameter to control this behavior.\n",
      "  _warn_prf(average, modifier, msg_start, len(result))\n",
      "/Applications/anaconda3/lib/python3.8/site-packages/sklearn/metrics/_classification.py:1245: UndefinedMetricWarning: Precision and F-score are ill-defined and being set to 0.0 in labels with no predicted samples. Use `zero_division` parameter to control this behavior.\n",
      "  _warn_prf(average, modifier, msg_start, len(result))\n",
      "/Applications/anaconda3/lib/python3.8/site-packages/sklearn/metrics/_classification.py:1245: UndefinedMetricWarning: Precision and F-score are ill-defined and being set to 0.0 in labels with no predicted samples. Use `zero_division` parameter to control this behavior.\n",
      "  _warn_prf(average, modifier, msg_start, len(result))\n",
      "/Applications/anaconda3/lib/python3.8/site-packages/sklearn/metrics/_classification.py:1245: UndefinedMetricWarning: Precision and F-score are ill-defined and being set to 0.0 in labels with no predicted samples. Use `zero_division` parameter to control this behavior.\n",
      "  _warn_prf(average, modifier, msg_start, len(result))\n",
      "/Applications/anaconda3/lib/python3.8/site-packages/sklearn/metrics/_classification.py:1245: UndefinedMetricWarning: Precision and F-score are ill-defined and being set to 0.0 in labels with no predicted samples. Use `zero_division` parameter to control this behavior.\n",
      "  _warn_prf(average, modifier, msg_start, len(result))\n",
      "/Applications/anaconda3/lib/python3.8/site-packages/sklearn/metrics/_classification.py:1245: UndefinedMetricWarning: Precision is ill-defined and being set to 0.0 in labels with no predicted samples. Use `zero_division` parameter to control this behavior.\n",
      "  _warn_prf(average, modifier, msg_start, len(result))\n"
     ]
    }
   ],
   "source": [
    "# print the classification report\n",
    "report_rf_ga_6 = classification_report(y_test_sample_6, y_pred_rf_ga_6, output_dict=True)\n",
    "print(classification_report(y_test_sample_6, y_pred_rf_ga_6))\n",
    "\n",
    "print(f\"Number of selected features: {X_train_selected.shape[1]}\")\n",
    "\n",
    "# calculate accuracy\n",
    "accuracy_rf_ga_6 = accuracy_score(y_test_sample_6, y_pred_rf_ga_6)\n",
    "recall_rf_ga_6 = recall_score(y_test_sample_6, y_pred_rf_ga_6, average=\"weighted\")\n",
    "precision_rf_ga_6 = precision_score(y_test_sample_6, y_pred_rf_ga_6, average=\"weighted\")\n",
    "f1_rf_ga_6 = f1_score(y_test_sample_6, y_pred_rf_ga_6, average=\"weighted\")\n",
    "\n",
    "# print accuracy with 5 decimal places\n",
    "print(f\"Accuracy: {accuracy_rf_ga_6:.5f}\")"
   ]
  },
  {
   "cell_type": "code",
   "execution_count": 59,
   "metadata": {},
   "outputs": [
    {
     "data": {
      "image/png": "[encoded data removed]",
      "text/plain": [
       "<Figure size 1080x864 with 2 Axes>"
      ]
     },
     "metadata": {
      "needs_background": "light"
     },
     "output_type": "display_data"
    }
   ],
   "source": [
    "# generate the confusion matrix\n",
    "cm_rf_ga_6 = confusion_matrix(y_test_sample_6, y_pred_rf_ga_6)\n",
    "\n",
    "# visualize the confusion matrix using seaborn\n",
    "plt.figure(figsize=(15, 12))\n",
    "sns.heatmap(cm_rf_ga_6, annot=True, fmt='d', cmap='Blues', xticklabels=rf_benchmark.classes_, yticklabels=rf_benchmark.classes_)\n",
    "plt.xlabel('Predicted Labels')\n",
    "plt.ylabel('True Labels')\n",
    "plt.title('Confusion Matrix')\n",
    "plt.show()"
   ]
  },
  {
   "cell_type": "markdown",
   "metadata": {},
   "source": [
    "#### 19 Class Classification"
   ]
  },
  {
   "cell_type": "code",
   "execution_count": 60,
   "metadata": {},
   "outputs": [
    {
     "name": "stdout",
     "output_type": "stream",
     "text": [
      "LOOP STEP: Generation 1\n",
      "Fitness Scores: [0.98513011 0.98574969 0.98698885 0.98513011]\n",
      "Overall best fitness: 0.9869888, Overall best individual: [0 1 0 0 0 0 1 0 1 0 1 0 1 0 1 1 0 0 0 0 1 1 0 0 1 1 0 1 0 1 1 0 0 1 1 0 1\n",
      " 1 1 1 1 0 0 1 1]\n",
      "LOOP STEP: Generation 2\n",
      "Fitness Scores: [0.98574969 0.98574969 0.98327138 0.98513011]\n",
      "Overall best fitness: 0.9869888, Overall best individual: [0 1 0 0 0 0 1 0 1 0 1 0 1 0 1 1 0 0 0 0 1 1 0 0 1 1 0 1 0 1 1 0 0 1 1 0 1\n",
      " 1 1 1 1 0 0 1 1]\n",
      "LOOP STEP: Generation 3\n",
      "Fitness Scores: [0.98636927 0.98698885 0.98574969 0.99008674]\n",
      "Overall best fitness: 0.9900867, Overall best individual: [0 1 1 1 1 1 0 0 1 1 0 0 1 0 1 0 0 1 1 0 1 1 0 1 0 1 1 0 0 0 1 0 0 1 0 0 0\n",
      " 1 1 1 0 0 0 1 1]\n",
      "Termination Reason: None\n",
      "Best Fitness: 0.990086741016109\n",
      "Best Individual: [0 1 1 1 1 1 0 0 1 1 0 0 1 0 1 0 0 1 1 0 1 1 0 1 0 1 1 0 0 0 1 0 0 1 0 0 0\n",
      " 1 1 1 0 0 0 1 1]\n"
     ]
    }
   ],
   "source": [
    "# Call the GA function\n",
    "global_best_fitness, global_best_position = ga_feature_reduction(\n",
    "    X_train_sample = X_train_sample,\n",
    "    y_train_sample = y_train_sample_19,\n",
    "    X_test_sample = X_test_sample,\n",
    "    y_test_sample = y_test_sample_19,\n",
    "    population_size = population_size,\n",
    "    n_generations = n_generations,\n",
    "    mutation_rate = mutation_rate,\n",
    "    num_elites = num_elites,\n",
    "    CLASSIFIER = \"rf\",\n",
    "    metric = metric\n",
    ")"
   ]
  },
  {
   "cell_type": "code",
   "execution_count": 61,
   "metadata": {},
   "outputs": [],
   "source": [
    "# use the best features identified by GA\n",
    "selected_features = np.array(global_best_position, dtype=bool)\n",
    "# Apply the selected features to your datasets\n",
    "X_train_selected = X_train_sample[:, selected_features]\n",
    "X_test_selected = X_test_sample[:, selected_features]\n",
    "\n",
    "rf_benchmark.fit(X_train_selected, y_train_sample_19) \n",
    "y_pred_rf_ga_19 = rf_benchmark.predict(X_test_selected)"
   ]
  },
  {
   "cell_type": "code",
   "execution_count": 62,
   "metadata": {},
   "outputs": [
    {
     "name": "stdout",
     "output_type": "stream",
     "text": [
      "                    precision    recall  f1-score   support\n",
      "\n",
      "      ARP_spoofing       0.00      0.00      0.00         1\n",
      "            Benign       0.91      0.91      0.91        35\n",
      "         DDoS_ICMP       1.00      1.00      1.00       352\n",
      "          DDoS_SYN       1.00      1.00      1.00       177\n",
      "          DDoS_TCP       1.00      1.00      1.00       157\n",
      "          DDoS_UDP       1.00      1.00      1.00       367\n",
      "DDoS_connect_flood       1.00      1.00      1.00        41\n",
      "DDoS_publish_flood       1.00      0.44      0.62         9\n",
      "          DoS_ICMP       1.00      0.99      1.00       120\n",
      "           DoS_SYN       1.00      1.00      1.00        97\n",
      "           DoS_TCP       1.00      1.00      1.00        78\n",
      "           DoS_UDP       1.00      1.00      1.00       143\n",
      " DoS_connect_flood       1.00      1.00      1.00         1\n",
      " DoS_publish_flood       0.69      1.00      0.81        11\n",
      "           OS_scan       1.00      0.33      0.50         3\n",
      "         Port_scan       0.78      1.00      0.88        21\n",
      "        ping_sweep       0.00      0.00      0.00         1\n",
      "\n",
      "          accuracy                           0.99      1614\n",
      "         macro avg       0.85      0.80      0.81      1614\n",
      "      weighted avg       0.99      0.99      0.99      1614\n",
      "\n",
      "Number of selected features: 23\n",
      "Accuracy: 0.99133\n"
     ]
    },
    {
     "name": "stderr",
     "output_type": "stream",
     "text": [
      "/Applications/anaconda3/lib/python3.8/site-packages/sklearn/metrics/_classification.py:1245: UndefinedMetricWarning: Precision and F-score are ill-defined and being set to 0.0 in labels with no predicted samples. Use `zero_division` parameter to control this behavior.\n",
      "  _warn_prf(average, modifier, msg_start, len(result))\n",
      "/Applications/anaconda3/lib/python3.8/site-packages/sklearn/metrics/_classification.py:1245: UndefinedMetricWarning: Precision and F-score are ill-defined and being set to 0.0 in labels with no predicted samples. Use `zero_division` parameter to control this behavior.\n",
      "  _warn_prf(average, modifier, msg_start, len(result))\n",
      "/Applications/anaconda3/lib/python3.8/site-packages/sklearn/metrics/_classification.py:1245: UndefinedMetricWarning: Precision and F-score are ill-defined and being set to 0.0 in labels with no predicted samples. Use `zero_division` parameter to control this behavior.\n",
      "  _warn_prf(average, modifier, msg_start, len(result))\n",
      "/Applications/anaconda3/lib/python3.8/site-packages/sklearn/metrics/_classification.py:1245: UndefinedMetricWarning: Precision and F-score are ill-defined and being set to 0.0 in labels with no predicted samples. Use `zero_division` parameter to control this behavior.\n",
      "  _warn_prf(average, modifier, msg_start, len(result))\n",
      "/Applications/anaconda3/lib/python3.8/site-packages/sklearn/metrics/_classification.py:1245: UndefinedMetricWarning: Precision and F-score are ill-defined and being set to 0.0 in labels with no predicted samples. Use `zero_division` parameter to control this behavior.\n",
      "  _warn_prf(average, modifier, msg_start, len(result))\n",
      "/Applications/anaconda3/lib/python3.8/site-packages/sklearn/metrics/_classification.py:1245: UndefinedMetricWarning: Precision and F-score are ill-defined and being set to 0.0 in labels with no predicted samples. Use `zero_division` parameter to control this behavior.\n",
      "  _warn_prf(average, modifier, msg_start, len(result))\n",
      "/Applications/anaconda3/lib/python3.8/site-packages/sklearn/metrics/_classification.py:1245: UndefinedMetricWarning: Precision is ill-defined and being set to 0.0 in labels with no predicted samples. Use `zero_division` parameter to control this behavior.\n",
      "  _warn_prf(average, modifier, msg_start, len(result))\n"
     ]
    }
   ],
   "source": [
    "# print the classification report\n",
    "report_rf_ga_19 = classification_report(y_test_sample_19, y_pred_rf_ga_19, output_dict=True)\n",
    "print(classification_report(y_test_sample_19, y_pred_rf_ga_19))\n",
    "\n",
    "print(f\"Number of selected features: {X_train_selected.shape[1]}\")\n",
    "\n",
    "# calculate accuracy\n",
    "accuracy_rf_ga_19 = accuracy_score(y_test_sample_19, y_pred_rf_ga_19)\n",
    "recall_rf_ga_19 = recall_score(y_test_sample_19, y_pred_rf_ga_19, average=\"weighted\")\n",
    "precision_rf_ga_19 = precision_score(y_test_sample_19, y_pred_rf_ga_19, average=\"weighted\")\n",
    "f1_rf_ga_19 = f1_score(y_test_sample_19, y_pred_rf_ga_19, average=\"weighted\")\n",
    "\n",
    "# print accuracy with 5 decimal places\n",
    "print(f\"Accuracy: {accuracy_rf_ga_19:.5f}\")"
   ]
  },
  {
   "cell_type": "code",
   "execution_count": 63,
   "metadata": {},
   "outputs": [
    {
     "data": {
      "image/png": "[encoded data removed]",
      "text/plain": [
       "<Figure size 1080x864 with 2 Axes>"
      ]
     },
     "metadata": {
      "needs_background": "light"
     },
     "output_type": "display_data"
    }
   ],
   "source": [
    "# generate the confusion matrix\n",
    "cm_rf_ga_19 = confusion_matrix(y_test_sample_19, y_pred_rf_ga_19)\n",
    "\n",
    "# visualize the confusion matrix using seaborn\n",
    "plt.figure(figsize=(15, 12))\n",
    "sns.heatmap(cm_rf_ga_19, annot=True, fmt='d', cmap='Blues', xticklabels=rf_benchmark.classes_, yticklabels=rf_benchmark.classes_)\n",
    "plt.xlabel('Predicted Labels')\n",
    "plt.ylabel('True Labels')\n",
    "plt.title('Confusion Matrix')\n",
    "plt.show()"
   ]
  },
  {
   "cell_type": "markdown",
   "metadata": {},
   "source": [
    "### Collect Output"
   ]
  },
  {
   "cell_type": "code",
   "execution_count": 67,
   "metadata": {},
   "outputs": [
    {
     "name": "stdout",
     "output_type": "stream",
     "text": [
      "   classifier   bio_algo  label_classes     metric     value\n",
      "0          LR  Benchmark              2   accuracy  0.983271\n",
      "1          LR  Benchmark              2     recall  0.983271\n",
      "2          LR  Benchmark              2  precision  0.983507\n",
      "3          LR  Benchmark              2         f1  0.983387\n",
      "4          LR  Benchmark              6   accuracy  0.667286\n",
      "..        ...        ...            ...        ...       ...\n",
      "67         RF         GA              6         f1   0.99606\n",
      "68         RF         GA             19   accuracy  0.991326\n",
      "69         RF         GA             19     recall  0.991326\n",
      "70         RF         GA             19  precision  0.991881\n",
      "71         RF         GA             19         f1  0.990318\n",
      "\n",
      "[72 rows x 5 columns]\n"
     ]
    }
   ],
   "source": [
    "# Define the possible values for each column\n",
    "classifiers = [\"LR\", \"Ada\", \"RF\"]\n",
    "bio_algos = [\"Benchmark\", \"GA\"]\n",
    "label_classes = [2, 6, 19]\n",
    "metrics = [\"accuracy\", \"recall\", \"precision\", \"f1\"]\n",
    "\n",
    "# Generate all combinations\n",
    "combinations = list(product(classifiers, bio_algos, label_classes, metrics))\n",
    "\n",
    "# Create the DataFrame with columns and set the initial 'value' to NaN\n",
    "df = pd.DataFrame(combinations, columns=[\"classifier\", \"bio_algo\", \"label_classes\", \"metric\"])\n",
    "df[\"value\"] = pd.NA  # Set 'value' column to NaN\n",
    "\n",
    "# Create a dictionary for these mappings\n",
    "value_mappings = {\n",
    "    ('LR', 'Benchmark', 2, 'accuracy'): accuracy_lr_benchmark_2,\n",
    "    ('LR', 'Benchmark', 6, 'accuracy'): accuracy_lr_benchmark_6,\n",
    "    ('LR', 'Benchmark', 19, 'accuracy'): accuracy_lr_benchmark_19,\n",
    "    ('LR', 'GA', 2, 'accuracy'): accuracy_lr_ga_2,\n",
    "    ('LR', 'GA', 6, 'accuracy'): accuracy_lr_ga_6,\n",
    "    ('LR', 'GA', 19, 'accuracy'): accuracy_lr_ga_19,\n",
    "    ('Ada', 'Benchmark', 2, 'accuracy'): accuracy_ada_benchmark_2,\n",
    "    ('Ada', 'Benchmark', 6, 'accuracy'): accuracy_ada_benchmark_6,\n",
    "    ('Ada', 'Benchmark', 19, 'accuracy'): accuracy_ada_benchmark_19,\n",
    "    ('Ada', 'GA', 2, 'accuracy'): accuracy_ada_ga_2,\n",
    "    ('Ada', 'GA', 6, 'accuracy'): accuracy_ada_ga_6,\n",
    "    ('Ada', 'GA', 19, 'accuracy'): accuracy_ada_ga_19,\n",
    "    ('RF', 'Benchmark', 2, 'accuracy'): accuracy_rf_benchmark_2,\n",
    "    ('RF', 'Benchmark', 6, 'accuracy'): accuracy_rf_benchmark_6,\n",
    "    ('RF', 'Benchmark', 19, 'accuracy'): accuracy_rf_benchmark_19,\n",
    "    ('RF', 'GA', 2, 'accuracy'): accuracy_rf_ga_2,\n",
    "    ('RF', 'GA', 6, 'accuracy'): accuracy_rf_ga_6,\n",
    "    ('RF', 'GA', 19, 'accuracy'): accuracy_rf_ga_19,\n",
    "\n",
    "\n",
    "    ('LR', 'Benchmark', 2, 'recall'): recall_lr_benchmark_2,\n",
    "    ('LR', 'Benchmark', 6, 'recall'): recall_lr_benchmark_6,\n",
    "    ('LR', 'Benchmark', 19, 'recall'): recall_lr_benchmark_19,\n",
    "    ('LR', 'GA', 2, 'recall'): recall_lr_ga_2,\n",
    "    ('LR', 'GA', 6, 'recall'): recall_lr_ga_6,\n",
    "    ('LR', 'GA', 19, 'recall'): recall_lr_ga_19,\n",
    "    ('Ada', 'Benchmark', 2, 'recall'): recall_ada_benchmark_2,\n",
    "    ('Ada', 'Benchmark', 6, 'recall'): recall_ada_benchmark_6,\n",
    "    ('Ada', 'Benchmark', 19, 'recall'): recall_ada_benchmark_19,\n",
    "    ('Ada', 'GA', 2, 'recall'): recall_ada_ga_2,\n",
    "    ('Ada', 'GA', 6, 'recall'): recall_ada_ga_6,\n",
    "    ('Ada', 'GA', 19, 'recall'): recall_ada_ga_19,\n",
    "    ('RF', 'Benchmark', 2, 'recall'): recall_rf_benchmark_2,\n",
    "    ('RF', 'Benchmark', 6, 'recall'): recall_rf_benchmark_6,\n",
    "    ('RF', 'Benchmark', 19, 'recall'): recall_rf_benchmark_19,\n",
    "    ('RF', 'GA', 2, 'recall'): recall_rf_ga_2,\n",
    "    ('RF', 'GA', 6, 'recall'): recall_rf_ga_6,\n",
    "    ('RF', 'GA', 19, 'recall'): recall_rf_ga_19,\n",
    "\n",
    "    ('LR', 'Benchmark', 2, 'precision'): precision_lr_benchmark_2,\n",
    "    ('LR', 'Benchmark', 6, 'precision'): precision_lr_benchmark_6,\n",
    "    ('LR', 'Benchmark', 19, 'precision'): precision_lr_benchmark_19,\n",
    "    ('LR', 'GA', 2, 'precision'): precision_lr_ga_2,\n",
    "    ('LR', 'GA', 6, 'precision'): precision_lr_ga_6,\n",
    "    ('LR', 'GA', 19, 'precision'): precision_lr_ga_19,\n",
    "    ('Ada', 'Benchmark', 2, 'precision'): precision_ada_benchmark_2,\n",
    "    ('Ada', 'Benchmark', 6, 'precision'): precision_ada_benchmark_6,\n",
    "    ('Ada', 'Benchmark', 19, 'precision'): precision_ada_benchmark_19,\n",
    "    ('Ada', 'GA', 2, 'precision'): precision_ada_ga_2,\n",
    "    ('Ada', 'GA', 6, 'precision'): precision_ada_ga_6,\n",
    "    ('Ada', 'GA', 19, 'precision'): precision_ada_ga_19,\n",
    "    ('RF', 'Benchmark', 2, 'precision'): precision_rf_benchmark_2,\n",
    "    ('RF', 'Benchmark', 6, 'precision'): precision_rf_benchmark_6,\n",
    "    ('RF', 'Benchmark', 19, 'precision'): precision_rf_benchmark_19,\n",
    "    ('RF', 'GA', 2, 'precision'): precision_rf_ga_2,\n",
    "    ('RF', 'GA', 6, 'precision'): precision_rf_ga_6,\n",
    "    ('RF', 'GA', 19, 'precision'): precision_rf_ga_19,\n",
    "\n",
    "    ('LR', 'Benchmark', 2, 'f1'): f1_lr_benchmark_2,\n",
    "    ('LR', 'Benchmark', 6, 'f1'): f1_lr_benchmark_6,\n",
    "    ('LR', 'Benchmark', 19, 'f1'): f1_lr_benchmark_19,\n",
    "    ('LR', 'GA', 2, 'f1'): f1_lr_ga_2,\n",
    "    ('LR', 'GA', 6, 'f1'): f1_lr_ga_6,\n",
    "    ('LR', 'GA', 19, 'f1'): f1_lr_ga_19,\n",
    "    ('Ada', 'Benchmark', 2, 'f1'): f1_ada_benchmark_2,\n",
    "    ('Ada', 'Benchmark', 6, 'f1'): f1_ada_benchmark_6,\n",
    "    ('Ada', 'Benchmark', 19, 'f1'): f1_ada_benchmark_19,\n",
    "    ('Ada', 'GA', 2, 'f1'): f1_ada_ga_2,\n",
    "    ('Ada', 'GA', 6, 'f1'): f1_ada_ga_6,\n",
    "    ('Ada', 'GA', 19, 'f1'): f1_ada_ga_19,\n",
    "    ('RF', 'Benchmark', 2, 'f1'): f1_rf_benchmark_2,\n",
    "    ('RF', 'Benchmark', 6, 'f1'): f1_rf_benchmark_6,\n",
    "    ('RF', 'Benchmark', 19, 'f1'): f1_rf_benchmark_19,\n",
    "    ('RF', 'GA', 2, 'f1'): f1_rf_ga_2,\n",
    "    ('RF', 'GA', 6, 'f1'): f1_rf_ga_6,\n",
    "    ('RF', 'GA', 19, 'f1'): f1_rf_ga_19\n",
    "}\n",
    "\n",
    "# Assign values based on these mappings\n",
    "for key, value in value_mappings.items():\n",
    "    classifier, bio_algo, label_class, metric = key\n",
    "    df.loc[\n",
    "        (df['classifier'] == classifier) &\n",
    "        (df['bio_algo'] == bio_algo) &\n",
    "        (df['label_classes'] == label_class) &\n",
    "        (df['metric'] == metric),\n",
    "        'value'\n",
    "    ] = value\n",
    "\n",
    "# Display the DataFrame\n",
    "print(df)"
   ]
  },
  {
   "cell_type": "code",
   "execution_count": 65,
   "metadata": {},
   "outputs": [
    {
     "name": "stdout",
     "output_type": "stream",
     "text": [
      "Total execution time: 103.31 seconds\n"
     ]
    }
   ],
   "source": [
    "end_time = time.time()  # End time\n",
    "elapsed_time = end_time - start_time  # Calculate the total time\n",
    "print(f\"Total execution time: {elapsed_time:.2f} seconds\")"
   ]
  }
 ],
 "metadata": {
  "kernelspec": {
   "display_name": "base",
   "language": "python",
   "name": "python3"
  },
  "language_info": {
   "codemirror_mode": {
    "name": "ipython",
    "version": 3
   },
   "file_extension": ".py",
   "mimetype": "text/x-python",
   "name": "python",
   "nbconvert_exporter": "python",
   "pygments_lexer": "ipython3",
   "version": "3.8.8"
  }
 },
 "nbformat": 4,
 "nbformat_minor": 2
}
